{
 "cells": [
  {
   "cell_type": "markdown",
   "metadata": {},
   "source": [
    "# Object Oriented Programming 2 - examples and APIs\n"
   ]
  },
  {
   "cell_type": "markdown",
   "metadata": {},
   "source": [
    "## Tasks Today:\n",
    "\n",
    "   \n",
    "\n",
    "1) <b>Shopping Cart Example</b> <br>\n",
    "2) <b>Requests and the pokemon API </b> <br>\n",
    " "
   ]
  },
  {
   "cell_type": "markdown",
   "metadata": {},
   "source": [
    "#### Whiteboard"
   ]
  },
  {
   "cell_type": "code",
   "execution_count": 1,
   "metadata": {},
   "outputs": [
    {
     "name": "stdout",
     "output_type": "stream",
     "text": [
      "Outage\n"
     ]
    }
   ],
   "source": [
    "# Electric Company\n",
    "# Create a function that given a list which represents street lights given as a parameter(l_street), determine if an outage has occurred. A street with a total number of \"F\" greater than or equal to 2 returns \"Outage\", anything below returns \"Power\"\n",
    "# Example Input: [ 'T', 'F', 'F', 'F' ]\n",
    "# Example Output: \"Outage\"\n",
    "\n",
    "l_street = [ 'T', 'T', 'F', 'F' ]\n",
    "\n",
    "# street_dict = {}\n",
    "\n",
    "# for i in l_street:\n",
    "#     street_dict[i] = l_street.count(i)\n",
    "\n",
    "# if street_dict[\"F\"] >= 2:\n",
    "#     print(\"Outage\")\n",
    "\n",
    "# else:\n",
    "#     print(\"Power\")\n",
    "    \n",
    "    \n",
    "#using a counter which saves time cuz its OUTSIDE the for loop\n",
    "\n",
    "# counter = 0\n",
    "\n",
    "# for i in l_street:\n",
    "#     if i.lower() == 'f':\n",
    "#         counter += 1\n",
    "        \n",
    "# if counter >= 2:\n",
    "#     print(\"Outage\")\n",
    "\n",
    "# else:\n",
    "#     print(\"Power\")\n",
    "    \n",
    "\n",
    "#Shorter\n",
    "\n",
    "lights = 'Power'\n",
    "if l_street.count('F') > 1:\n",
    "    lights = 'Outage'\n",
    "    print(lights)\n",
    "    "
   ]
  },
  {
   "cell_type": "markdown",
   "metadata": {},
   "source": [
    "# Goal \n",
    "### build a shopping cart program with prices and quantities using objects and a dictionary"
   ]
  },
  {
   "cell_type": "code",
   "execution_count": null,
   "metadata": {},
   "outputs": [],
   "source": [
    "from IPython.display import clear_output as clear\n",
    "# Create a class called cart that retains items and has methods to add, remove, and show\n",
    "\n",
    "# This class is responsible for the cart object and actions of that cart \n",
    "class Cart():\n",
    "    def __init__(self):\n",
    "        self.items = {}\n",
    "        \n",
    "    def add(self):\n",
    "        clear()\n",
    "        new_item = input(\"What do you want to buy? \")\n",
    "        quantity = int(input(f\"How many {new_item}/s do you want to buy? (insert number) \"))\n",
    "        if new_item not in self.items.keys():\n",
    "            self.items[new_item] = quantity \n",
    "        else:\n",
    "            self.items[new_item]+= quantity\n",
    "        print(f\"{quantity} {new_item}s have been added\")\n",
    "                       \n",
    "    def remove(self):\n",
    "        clear()\n",
    "        discard = input('What would you like to toss? ')\n",
    "        quantity = int(input(\"How many would you like to toss? (insert number) \"))\n",
    "        try:\n",
    "            self.items[discard] -= quantity\n",
    "            if self.items[discard] <= 0:\n",
    "                del self.items[discard]\n",
    "        except:\n",
    "            print(f\"{discard} was not in the cart.\")\n",
    "        self.show()\n",
    "                       \n",
    "    def show(self):\n",
    "        print(\"Your cart has the listed items and quantities\")\n",
    "        for item, quantity in self.items.items():\n",
    "            print(f\"{item} --- {quantity}\")\n",
    "                       \n",
    "    def checkout(self): \n",
    "        clear()\n",
    "        if self.items:\n",
    "            print(\"Thanks for Shopping\")\n",
    "            self.show()\n",
    "        else:\n",
    "            print(\"Goodbye! Hope you purchase something next time.\")\n",
    "                       \n",
    "# Control the logic and flow of our program\n",
    "class Main:\n",
    "    def show_instructions(self):\n",
    "        print(\"\"\"\n",
    "        Welcome to the Online Shopping Program.\n",
    "        Option:\n",
    "        [1] Show Current Cart\n",
    "        [2] Add an Item\n",
    "        [3] Remove Item\n",
    "        [4] Quit \n",
    "        \"\"\")\n",
    "                       \n",
    "    # Driver Code\n",
    "    def run(self):\n",
    "        \n",
    "        my_cart = Cart()\n",
    "                       \n",
    "        while True:\n",
    "            self.show_instructions()\n",
    "            choice = input(\"What would you like to do? \")\n",
    "            if choice == '1':\n",
    "                if my_cart.items:\n",
    "                    my_cart.show()\n",
    "                else:\n",
    "                    print(\"Your cart is empty. Start shopping!\")\n",
    "            elif choice == '2':\n",
    "                my_cart.add()\n",
    "            elif choice == '3':\n",
    "                if my_cart.items:\n",
    "                    my_cart.remove()\n",
    "                else:\n",
    "                    print(\"Your cart is empty.\")\n",
    "            elif choice == '4':\n",
    "                my_cart.checkout()\n",
    "                break\n",
    "            else:\n",
    "                print(\"Invalid response...please try again\")\n",
    "            \n",
    "my_program = Main()\n",
    "my_program.run()"
   ]
  },
  {
   "cell_type": "markdown",
   "metadata": {},
   "source": [
    "# Working with APIs"
   ]
  },
  {
   "cell_type": "markdown",
   "metadata": {},
   "source": [
    "<p> What exactly is an API? <br> <br>\n",
    "API is the acronym for Application Programming Interface, which is a software intermediary that allows two applications to talk to each other. Each time you use an app like Facebook, send an instant message, or check the weather on your phone, you're using an API. </p>"
   ]
  },
  {
   "cell_type": "markdown",
   "metadata": {},
   "source": [
    "### The Poke API  allows you to retreive a pokemon's information from PokeAPI https://pokeapi.co/\n",
    "\n"
   ]
  },
  {
   "cell_type": "code",
   "execution_count": 6,
   "metadata": {},
   "outputs": [
    {
     "name": "stdout",
     "output_type": "stream",
     "text": [
      "dict_keys(['abilities', 'base_experience', 'forms', 'game_indices', 'height', 'held_items', 'id', 'is_default', 'location_area_encounters', 'moves', 'name', 'order', 'past_types', 'species', 'sprites', 'stats', 'types', 'weight'])\n"
     ]
    }
   ],
   "source": [
    "# making an API call\n",
    "import requests\n",
    "\n",
    "r = requests.get('https://pokeapi.co/api/v2/pokemon/haunter')\n",
    "if r.status_code == 200:\n",
    "    data = r.json()\n",
    "    \n",
    "    \n",
    "print(data.keys())"
   ]
  },
  {
   "cell_type": "markdown",
   "metadata": {},
   "source": [
    "### Display a Pokemon's name, weight, abilities, and types"
   ]
  },
  {
   "cell_type": "code",
   "execution_count": null,
   "metadata": {},
   "outputs": [],
   "source": [
    "# get the name\n",
    "name = data['name']\n",
    "print(name)"
   ]
  },
  {
   "cell_type": "code",
   "execution_count": null,
   "metadata": {},
   "outputs": [],
   "source": [
    "# get types\n",
    "# types = data['types'][0]['type']['name']\n",
    "types = [pokemon_type ['type']['name'] for pokemon_type in data['types']] \n",
    "print(types)"
   ]
  },
  {
   "cell_type": "code",
   "execution_count": null,
   "metadata": {},
   "outputs": [],
   "source": [
    "# get weight\n",
    "weight = data['weight']\n",
    "print(weight)"
   ]
  },
  {
   "cell_type": "code",
   "execution_count": null,
   "metadata": {},
   "outputs": [],
   "source": [
    "# get abilities\n",
    "abilities = [pokemon_ability ['ability']['name'] for pokemon_ability in data['abilities']][0] \n",
    "print(abilities)"
   ]
  },
  {
   "cell_type": "code",
   "execution_count": null,
   "metadata": {},
   "outputs": [],
   "source": [
    "# Create a structure for a single pokemon\n",
    "haunter = {\n",
    "    'name': name,\n",
    "    'abilities': abilities,\n",
    "    'weight': weight,\n",
    "    'types': types\n",
    "}"
   ]
  },
  {
   "cell_type": "code",
   "execution_count": null,
   "metadata": {},
   "outputs": [],
   "source": [
    "haunter"
   ]
  },
  {
   "cell_type": "markdown",
   "metadata": {},
   "source": [
    "#### Create a function to Pull in your own Pokemon's data "
   ]
  },
  {
   "cell_type": "code",
   "execution_count": null,
   "metadata": {},
   "outputs": [],
   "source": [
    "def poke_api_call(pokemon): \n",
    "    r = requests.get(f\"https://pokeapi.co/api/v2/pokemon/{pokemon}\")\n",
    "    if r.status_code == 200:\n",
    "        data = r.json()\n",
    "    \n",
    "        name = data['name']\n",
    "        abilities = [pokemon_ability ['ability']['name'] for pokemon_ability in data['abilities']]\n",
    "        held_items = [pokemon_items['item']['name'] for pokemon_items in data['held_items']]\n",
    "\n",
    "        pokemon = {\n",
    "            'name': name,\n",
    "            'abilities' : abilities,\n",
    "            'held_items' : held_items\n",
    "        }\n",
    "\n",
    "        return pokemon\n",
    "    \n",
    "\n",
    "poke_api_call('dragonair')"
   ]
  },
  {
   "cell_type": "markdown",
   "metadata": {},
   "source": [
    "Choose your pokemon"
   ]
  },
  {
   "cell_type": "code",
   "execution_count": null,
   "metadata": {},
   "outputs": [],
   "source": [
    "from random import randint\n",
    "# Random number generated for each pokemon id\n",
    "random_team = [randint(1,898) for i in range(6)]\n",
    "\n",
    "your_team = ['electabuzz', 'haunter','tyranitar','blaziken','marowak','dragonair']\n",
    "random_team"
   ]
  },
  {
   "cell_type": "markdown",
   "metadata": {},
   "source": [
    "#### Use your function to create a dictionary of your Johto League 6  (favorite 6 pokemon)"
   ]
  },
  {
   "cell_type": "code",
   "execution_count": null,
   "metadata": {},
   "outputs": [],
   "source": [
    "# Place all 6 of your pokemon on the object below, each pokemon should have at least as much info as Pikachu did.\n",
    "my_six_pokemon = {}\n",
    "\n",
    "for member in random_team:\n",
    "    poke_member = poke_api_call(member)\n",
    "    my_six_pokemon[poke_member['name'].title()] = poke_member\n",
    "    \n",
    "    \n",
    "my_six_pokemon"
   ]
  },
  {
   "cell_type": "markdown",
   "metadata": {},
   "source": [
    "## Lets create a class called 'Pokemon' and create our pokemon as instances"
   ]
  },
  {
   "cell_type": "code",
   "execution_count": null,
   "metadata": {},
   "outputs": [],
   "source": [
    "class Pokemon():\n",
    "    \n",
    "    def __init__(self, name): \n",
    "        self.name = name\n",
    "        self.abilites = []\n",
    "        self.held_items = []\n",
    "        self.poke_api_call()\n",
    "        \n",
    "    def poke_api_call(self):\n",
    "        r = requests.get(f\"https://pokeapi.co/api/v2/pokemon/{self.name}\")\n",
    "        if r.status_code == 200:\n",
    "            data = r.json()\n",
    "        else:\n",
    "            print(f\"Ran into an issue {r.status_code}\")\n",
    "            return\n",
    "\n",
    "        self.name = data['name']\n",
    "        self.abilities = [pokemon_ability ['ability']['name'] for pokemon_ability in data['abilities']]\n",
    "        self.held_items = [pokemon_items['item']['name'] for pokemon_items in data['held_items']]\n",
    "        print(f\"{self.name}'s data has been updated!\")\n",
    "        \n",
    "    def __repr__(self):\n",
    "        return f\"You caught a {self.name}\"\n",
    "    "
   ]
  },
  {
   "cell_type": "markdown",
   "metadata": {},
   "source": [
    "### Let's Catch some Pokemon"
   ]
  },
  {
   "cell_type": "code",
   "execution_count": null,
   "metadata": {},
   "outputs": [],
   "source": [
    "pikachu = Pokemon('pikachu')\n",
    "print(pikachu)"
   ]
  },
  {
   "cell_type": "code",
   "execution_count": null,
   "metadata": {},
   "outputs": [],
   "source": [
    "pokedex = {}\n"
   ]
  },
  {
   "cell_type": "markdown",
   "metadata": {},
   "source": [
    "## Exercise 1:"
   ]
  },
  {
   "cell_type": "markdown",
   "metadata": {},
   "source": [
    "### Create a Method prints an image of your pokemon\n",
    "\n",
    "<p>HINT: You may need another attribute as well to store your image url within. </p>"
   ]
  },
  {
   "cell_type": "code",
   "execution_count": 7,
   "metadata": {},
   "outputs": [],
   "source": [
    "# Display an image in Jupyter notebook\n",
    "from IPython.display import Image, SVG\n",
    "\n",
    "# display(Image( 'https://i.redd.it/45n4mhusa8l41.jpg', width = 300))\n"
   ]
  },
  {
   "cell_type": "code",
   "execution_count": 10,
   "metadata": {},
   "outputs": [],
   "source": [
    "# recreate your pokemon class here\n",
    "\n",
    "\n",
    "class Pokemon(Evolution, Move_Tutor):\n",
    "    \n",
    "    def __init__(self, name): \n",
    "        self.name = name\n",
    "        self.abilites = []\n",
    "        self.held_items = []\n",
    "        self.image = None\n",
    "        Move_Tutor.__init__(self)\n",
    "        self.poke_api_call()\n",
    "        self.display()\n",
    "        \n",
    "    def poke_api_call(self):\n",
    "        r = requests.get(f\"https://pokeapi.co/api/v2/pokemon/{self.name}\")\n",
    "        if r.status_code == 200:\n",
    "            data = r.json()\n",
    "        else:\n",
    "            print(f\"Ran into an issue {r.status_code}\")\n",
    "            return\n",
    "\n",
    "        self.name = data['name']\n",
    "        self.abilities = [pokemon_ability ['ability']['name'] for pokemon_ability in data['abilities']]\n",
    "        self.held_items = [pokemon_items['item']['name'] for pokemon_items in data['held_items']]\n",
    "        self.image = data['sprites']['other']['dream_world']['front_default']\n",
    "        print(f\"{self.name}'s data has been updated!\")\n",
    "        \n",
    "    def __repr__(self):\n",
    "        return f\"You caught a {self.name}\"\n",
    "    \n",
    "    def display(self):\n",
    "        display(SVG(url = self.image))"
   ]
  },
  {
   "cell_type": "code",
   "execution_count": null,
   "metadata": {},
   "outputs": [],
   "source": [
    "pikachu = Pokemon('pikachu')\n",
    "print(pikachu)\n",
    "\n",
    "dragonair = Pokemon('dragonair')\n",
    "print(dragonair)"
   ]
  },
  {
   "cell_type": "code",
   "execution_count": null,
   "metadata": {},
   "outputs": [],
   "source": [
    "# Calling our new method\n"
   ]
  },
  {
   "cell_type": "markdown",
   "metadata": {},
   "source": [
    "## Exercise 2:"
   ]
  },
  {
   "cell_type": "markdown",
   "metadata": {},
   "source": [
    "### Create a Method that evolves your Pokemon\n",
    "If your pokemon can't evolve any further print a message that says \"\\<name of pokemon> can't evolve.\""
   ]
  },
  {
   "cell_type": "code",
   "execution_count": 9,
   "metadata": {},
   "outputs": [],
   "source": [
    "\n",
    "\n",
    "    \n",
    "class Evolution:\n",
    "    \n",
    "    def evolve(self):\n",
    "        r = requests.get(f\"https://pokeapi.co/api/v2/pokemon-species/{self.name}\")\n",
    "        if r.status_code == 200:\n",
    "            data2 = r.json()\n",
    "        else:\n",
    "            print(f\"Ran into an issue {r.status_code}\")\n",
    "            return\n",
    "\n",
    "        # API call for evollutionary chain\n",
    "        r = requests.get(data2['evolution_chain']['url'])\n",
    "        if r.status_code == 200:\n",
    "            data3 = r.json()\n",
    "            data3 = data3['chain']\n",
    "        else:\n",
    "            print(f\"Ran into an issue {r.status_code}\")\n",
    "            return\n",
    "        \n",
    "        # Get base name \n",
    "        base_name = data3['species']['name']\n",
    "        \n",
    "        evolve_to = data3['evolves_to'][0]\n",
    "        evolves_name = evolve_to['species']['name']\n",
    "        \n",
    "\n",
    "        # Evolution1\n",
    "        if base_name == self.name:\n",
    "            pass\n",
    "            \n",
    "        # Evolution 2\n",
    "        elif evolves_name == self.name:\n",
    "            evolves_name == evolve_to['evolves_to'][0]['species']['name']\n",
    "        else:\n",
    "            print(f\"You can't evolve {self.name} again.\")\n",
    "            return \n",
    "        \n",
    "        self.name = evolves_name\n",
    "        self.poke_api_call()\n",
    "        self.display()\n",
    "        print(f\"Congrats you've got a new {self.name}!\")\n",
    "          \n",
    "\n"
   ]
  },
  {
   "cell_type": "markdown",
   "metadata": {},
   "source": [
    "Now let's evolve a few"
   ]
  },
  {
   "cell_type": "code",
   "execution_count": null,
   "metadata": {
    "scrolled": true
   },
   "outputs": [],
   "source": [
    "charmander = Pokemon(\"charmander\")"
   ]
  },
  {
   "cell_type": "code",
   "execution_count": null,
   "metadata": {
    "scrolled": true
   },
   "outputs": [],
   "source": [
    "charmander.evolve()"
   ]
  },
  {
   "cell_type": "markdown",
   "metadata": {},
   "source": [
    "#  Final Exercise: <br> <br>Create a Move_Tutor Class that will allow the Pokemon Class to inherit a move list.\n",
    "<br>\n",
    "<p>for an added bonus you can make sure that if a pokemon has 4 moves the user can choose one of them to replace with a new move. </p>"
   ]
  },
  {
   "cell_type": "code",
   "execution_count": 8,
   "metadata": {},
   "outputs": [],
   "source": [
    "from IPython.display import clear_output as clear\n",
    "class Move_Tutor():\n",
    "    def __init__(self):\n",
    "        self.move_list = []\n",
    "        self.t_move_list = []\n",
    "        self.move_api_call()\n",
    "        \n",
    "    def move_api_call(self):\n",
    "        r = requests.get(f\"https://pokeapi.co/api/v2/pokemon/{self.name}\")\n",
    "        if r.status_code == 200:\n",
    "            moves = r.json()\n",
    "        else:\n",
    "            print(f\"Ran into an issue {r.status_code}\")\n",
    "            return\n",
    "        \n",
    "        self.move_list = [move['move']['name'] for move in moves['moves']]\n",
    "\n",
    "    def teach_move(self):\n",
    "        while True:\n",
    "            teach = input (f\"What would you like to teach your {self.name}? \")\n",
    "\n",
    "            if len(self.t_move_list) >= 4:\n",
    "                clear()\n",
    "                c_move = input(f\"Oh no! {self.name} can only learn 4 moves at a time. What move would you like to remove? \")\n",
    "                r_move = input(f\"What move would you like to replace {c_move} with? \")\n",
    "                self.t_move_list = list(map(lambda x: x.replace(c_move, r_move), self.t_move_list))\n",
    "\n",
    "\n",
    "            elif teach in self.t_move_list:\n",
    "                print(f\"{self.name} already knows that move. Try again\")\n",
    "                continue\n",
    "\n",
    "            elif teach in self.move_list:\n",
    "                clear()\n",
    "                self.t_move_list.append(teach)\n",
    "                print(f\"Congrats, {self.name} learned {teach}!\")\n",
    "\n",
    "            else:\n",
    "                print(f\"{self.name} cannot learn that move. Try again\")\n",
    "                continue\n",
    "\n",
    "            \n",
    "            response = input(f\"Would you like to teach {self.name} another move? \")\n",
    "            clear()\n",
    "            if response.lower() == 'yes':\n",
    "                continue\n",
    "            if response.lower() == 'no':\n",
    "                self.show_moves()\n",
    "                break\n",
    "            \n",
    "            \n",
    "            \n",
    "    def show_moves(self):\n",
    "        print(f\"{self.name}'s moves:\")\n",
    "        for move in self.t_move_list:\n",
    "            print(move)\n",
    "            \n",
    "        return\n",
    "            \n",
    "            \n",
    "                   "
   ]
  },
  {
   "cell_type": "code",
   "execution_count": 11,
   "metadata": {
    "scrolled": true
   },
   "outputs": [
    {
     "name": "stdout",
     "output_type": "stream",
     "text": [
      "haunter's data has been updated!\n"
     ]
    },
    {
     "data": {
      "image/svg+xml": [
       "<svg xmlns=\"http://www.w3.org/2000/svg\" version=\"1.1\" width=\"436px\" height=\"352px\" viewBox=\"-0.45 -0.55 436.4 352.35\"><g><path fill=\"#664497\" d=\"M367.5 116.7 Q373.65 118.4 403.75 119.05 L432.35 120.3 Q432.85 121.15 407.25 143.6 377.3 169.9 372.0 175.15 L395.85 179.35 Q414.6 182.4 414.75 183.45 414.95 184.65 399.6 194.95 384.65 205.0 376.45 209.4 L376.95 211.5 344.3 296.0 347.45 303.1 Q350.7 310.1 353.85 314.8 354.95 316.45 354.95 317.6 354.9 318.95 353.0 318.05 L342.45 313.05 336.0 309.75 343.7 321.1 Q350.65 331.2 356.35 338.9 361.2 345.45 360.5 346.3 359.75 347.2 352.35 342.25 323.2 322.65 317.2 320.05 L320.55 328.2 Q322.3 332.65 323.25 334.1 321.5 332.4 314.5 327.95 306.35 322.85 299.4 319.55 L272.5 306.8 Q254.75 298.2 241.35 290.5 203.35 268.75 184.45 245.75 164.0 227.55 128.1 200.25 99.75 178.65 100.0 177.7 100.35 176.45 113.9 174.5 129.05 172.35 132.75 170.55 83.55 101.65 84.8 99.3 85.55 97.95 107.8 103.45 132.95 109.6 138.25 109.8 127.55 73.1 120.8 49.25 108.15 4.2 109.8 3.05 111.85 1.7 144.85 22.75 175.8 42.45 201.8 61.1 L201.6 61.3 Q222.35 50.7 251.35 50.3 285.05 49.8 311.05 64.75 341.45 55.75 381.15 45.2 427.0 33.0 428.05 34.35 429.15 35.8 398.45 76.4 L367.5 116.7\"/><path fill=\"#593984\" d=\"M336.35 286.55 Q341.15 291.5 344.3 296.0 L347.65 303.55 Q351.1 310.95 354.45 315.75 355.25 316.9 354.75 317.4 354.2 317.95 352.35 317.15 L339.65 311.4 Q337.95 310.65 337.4 311.2 336.85 311.7 337.8 313.05 347.6 327.3 359.0 342.45 361.05 345.25 360.45 346.2 359.75 347.2 356.45 345.0 L337.15 332.05 Q324.95 323.9 319.5 320.85 L317.95 320.75 Q317.3 321.15 317.7 321.9 L321.75 329.5 Q323.7 333.2 323.25 333.4 322.4 333.7 316.3 329.3 308.25 323.5 302.15 320.6 268.75 306.1 248.25 295.4 210.75 275.8 193.2 255.75 225.25 275.9 257.7 280.5 289.05 284.9 318.15 274.55 326.65 276.65 336.35 286.55\"/><path fill=\"#664497\" d=\"M137.65 226.85 Q141.05 226.85 145.6 235.3 150.55 244.5 149.65 253.05 149.45 255.2 143.7 260.25 137.75 265.5 134.6 265.5 127.75 265.5 118.45 262.35 L100.7 255.6 Q97.05 254.25 92.1 254.75 L83.0 256.1 Q79.1 259.8 74.0 261.65 69.35 263.3 66.6 262.5 71.45 245.3 73.6 240.6 74.95 237.65 83.7 232.5 L97.65 224.7 Q98.5 224.2 107.4 226.4 117.4 228.85 123.45 228.15 L137.65 226.85\"/><path fill=\"#ffffff\" d=\"M298.65 103.85 Q300.35 114.8 300.25 126.6 300.15 138.25 298.35 146.15 296.75 153.45 294.0 156.7 290.85 160.4 283.65 162.4 271.7 165.75 255.55 166.7 240.9 167.55 233.8 166.1 234.5 157.5 256.35 136.6 278.05 115.8 298.65 103.85\"/><path fill=\"#ffffff\" d=\"M162.0 104.9 Q168.05 109.45 182.5 135.05 196.1 159.2 196.7 163.7 186.95 164.05 176.95 160.4 165.75 156.4 163.0 150.05 159.85 142.9 159.55 128.25 159.25 113.7 162.0 104.9\"/><path fill=\"#ed8599\" d=\"M177.95 185.6 Q194.75 189.3 195.7 189.2 196.95 193.7 200.8 199.7 204.25 205.15 204.95 205.05 205.4 205.0 207.2 198.7 L209.25 191.45 227.15 191.65 231.85 200.7 Q235.5 207.95 236.15 207.95 237.0 207.95 239.5 201.4 242.05 194.75 242.4 191.15 L255.7 189.4 271.7 186.95 Q278.15 199.35 278.85 199.45 279.45 199.5 281.7 194.25 284.05 188.6 284.8 184.3 L295.75 180.85 Q307.35 176.95 310.65 175.0 293.25 211.7 259.75 222.55 L259.7 222.7 250.75 214.55 245.8 225.75 236.5 214.05 229.4 226.55 220.4 212.9 214.15 224.6 205.75 211.3 203.9 215.3 Q202.05 219.55 201.75 220.75 L194.1 209.4 192.85 212.0 191.45 215.25 189.95 216.65 Q179.6 210.25 171.05 199.0 164.7 190.65 157.6 176.95 159.85 178.4 168.0 182.0 168.75 185.1 172.1 189.9 175.15 194.25 175.65 194.15 175.95 194.1 176.65 190.8 L177.95 185.6\"/><path fill=\"#664497\" d=\"M65.0 225.8 Q65.4 224.95 65.35 222.75 65.3 220.65 64.95 220.25 64.35 219.55 59.75 224.45 L54.45 230.3 Q56.9 230.1 60.8 228.4 64.6 226.75 65.0 225.8 M42.25 195.1 Q54.05 184.3 56.45 184.3 58.85 184.3 72.05 187.85 85.45 191.4 86.05 192.35 87.8 194.9 100.05 208.9 114.2 225.15 119.15 229.0 L121.85 263.25 Q117.95 263.4 110.45 269.55 102.45 276.15 99.6 276.8 L92.4 276.3 Q87.1 275.0 85.6 275.05 84.3 275.1 78.65 277.2 73.3 279.25 68.65 279.05 63.8 278.85 57.8 275.55 L47.35 268.8 Q40.95 264.35 37.1 262.8 31.5 260.45 26.8 261.65 L26.75 270.75 Q27.45 282.05 31.3 292.9 18.45 285.75 9.7 272.5 3.05 262.45 2.3 256.15 1.9 252.7 8.2 243.0 13.0 235.65 15.2 233.3 15.75 232.7 20.05 232.5 L30.2 232.3 30.95 232.5 Q27.15 218.1 29.35 209.65 30.3 206.05 42.25 195.1\"/><path fill=\"#dbdcdc\" d=\"M236.95 166.55 L233.95 166.1 Q234.85 157.5 257.4 136.0 279.55 114.9 298.65 103.85 L299.55 111.1 Q283.45 119.75 266.1 134.2 245.1 151.7 236.95 166.55\"/><path fill=\"#dbdcdc\" d=\"M162.0 104.9 Q168.05 109.45 182.5 135.05 196.1 159.2 196.7 163.7 L193.9 163.7 Q189.95 154.05 179.25 139.15 168.95 124.75 159.8 115.65 L160.8 110.0 162.0 104.9\"/><path fill=\"#664497\" d=\"M406.85 281.4 Q412.1 286.6 419.45 291.65 420.55 295.6 421.05 306.75 421.55 318.6 420.35 322.2 419.05 326.05 410.0 330.65 399.9 335.75 388.2 337.1 L384.15 337.2 Q383.45 336.7 385.7 334.1 389.5 329.75 391.85 323.15 394.45 315.8 393.7 309.35 385.15 299.55 372.8 302.5 363.2 304.8 354.15 302.65 345.1 300.55 344.85 295.85 L333.5 294.95 Q325.75 293.2 322.15 287.75 319.8 289.45 315.15 290.9 311.0 292.25 310.35 293.0 305.25 298.85 303.2 303.25 299.8 310.5 300.2 320.2 300.4 324.0 299.2 323.8 298.1 323.65 296.0 320.1 289.35 308.95 284.05 294.25 278.35 278.3 279.85 272.8 281.1 268.25 289.35 261.25 L300.9 251.75 Q302.9 249.75 307.3 250.1 L313.8 250.9 Q317.2 250.9 332.35 244.45 348.85 237.4 352.9 232.85 355.25 230.15 359.8 221.85 364.2 213.8 365.35 212.65 367.35 210.65 377.5 210.25 387.85 209.8 391.55 211.8 393.85 213.05 397.45 217.6 401.5 222.65 404.45 228.65 412.5 244.7 407.45 255.2 L402.5 262.65 Q398.85 267.7 398.9 267.85 398.85 273.45 406.85 281.4\"/><path fill=\"#593984\" d=\"M342.95 296.1 Q339.1 296.95 332.8 294.9 325.25 292.45 322.95 287.6 327.15 285.35 327.35 276.2 337.15 276.95 349.05 267.65 360.95 258.3 366.55 245.5 372.5 252.75 373.65 263.85 374.7 274.1 371.5 286.15 373.85 285.9 378.15 288.8 382.4 291.65 386.7 296.4 397.25 308.05 398.45 318.8 398.9 322.95 404.95 324.6 411.25 326.35 419.55 324.25 409.0 333.2 396.55 336.0 L388.0 337.25 382.4 338.0 Q389.7 330.3 393.0 318.9 394.1 315.15 394.5 311.85 394.85 309.0 394.55 309.2 390.9 304.45 384.9 302.85 L375.95 302.45 Q366.95 303.8 360.75 303.5 349.25 303.0 342.95 296.1\"/><path fill=\"#593984\" d=\"M372.45 254.45 L374.3 258.55 Q376.75 263.2 380.1 265.9 390.75 274.55 405.75 260.5 400.3 267.0 393.25 273.6 379.2 286.8 371.15 287.4 372.7 283.15 373.6 276.95 375.45 264.45 372.45 254.45\"/><path fill=\"#593984\" d=\"M299.3 295.5 Q305.6 295.55 310.6 292.45 305.1 296.15 301.95 309.75 299.2 321.5 300.1 326.8 294.1 321.35 286.95 303.55 280.7 288.0 278.95 278.15 286.15 295.35 299.3 295.5\"/><path fill=\"#593984\" d=\"M82.0 256.15 L77.3 260.55 Q71.6 264.6 66.7 262.8 L72.4 242.25 72.15 244.15 Q72.1 246.3 72.9 247.75 75.35 252.3 85.4 247.75 90.55 245.4 101.6 246.85 108.1 247.7 122.0 250.5 134.1 252.65 140.05 251.75 148.05 250.5 149.3 243.65 L150.2 248.25 Q150.6 253.4 148.05 256.05 L141.8 262.2 Q138.25 265.15 135.7 265.6 132.55 266.1 122.15 263.45 111.25 260.7 106.5 257.85 101.55 254.85 96.2 254.55 91.05 254.2 82.0 256.15\"/><path fill=\"#593984\" d=\"M47.5 247.2 Q50.45 233.75 54.95 230.25 58.35 230.05 61.65 228.1 66.45 225.3 65.4 220.7 66.25 221.45 70.5 223.2 L64.65 219.75 Q63.15 220.25 58.2 225.35 52.75 230.95 51.1 234.55 49.2 238.65 47.05 248.6 44.85 258.75 45.45 261.2 45.15 257.9 47.5 247.2 M88.55 226.75 Q89.85 227.75 90.4 228.95 L89.2 229.4 88.6 229.65 Q85.2 231.2 80.55 234.3 75.65 237.55 74.05 239.5 72.55 241.35 70.6 248.85 L66.7 262.8 72.55 261.65 Q78.4 259.95 82.0 256.15 L88.55 255.2 97.05 254.55 Q99.9 254.55 106.85 257.45 112.45 259.75 119.05 263.25 L110.5 270.3 Q102.6 276.55 100.1 276.85 L92.3 276.5 86.75 275.1 Q84.85 274.7 79.05 277.1 72.7 279.75 70.0 279.85 64.0 280.15 53.15 273.0 L45.0 267.35 Q40.55 264.3 38.35 263.3 L38.35 263.35 37.85 263.1 36.9 262.8 36.9 262.7 Q33.4 261.25 29.75 261.3 L26.8 261.65 Q25.0 266.4 27.85 279.85 29.3 286.6 31.05 292.35 16.85 285.4 7.5 269.5 4.6 264.55 2.5 259.3 L1.0 255.05 Q8.4 263.1 18.3 259.0 23.35 256.9 28.2 252.8 30.65 252.1 38.7 254.15 L39.2 253.7 Q29.85 238.35 27.8 210.2 30.65 221.55 39.1 223.25 45.85 224.6 51.45 220.3 L59.85 213.6 Q63.85 210.6 65.5 210.85 72.85 210.5 80.2 216.65 85.75 221.3 88.55 226.75\"/><path fill=\"#593984\" d=\"M167.85 181.3 Q164.4 180.1 160.85 178.5 153.7 175.4 153.05 173.6 L163.95 177.25 Q178.2 181.3 194.95 183.35 248.55 189.95 307.25 174.1 310.15 173.3 313.4 172.8 L315.65 172.7 Q311.4 174.7 305.4 177.1 293.4 181.9 284.75 183.8 L284.15 188.2 273.8 191.25 271.7 186.95 242.45 190.65 241.25 195.5 229.4 195.8 227.15 191.65 209.25 191.45 208.1 195.5 197.15 194.3 195.6 189.7 178.2 185.65 177.45 189.5 168.85 185.15 167.85 181.3\"/><path fill=\"#ce7486\" d=\"M240.5 198.7 L239.5 201.4 Q237.65 206.3 236.7 207.55 237.4 206.55 238.5 203.2 239.75 199.4 240.5 198.7 242.15 193.95 242.4 191.15 L255.7 189.4 271.7 186.95 Q278.15 199.35 278.85 199.45 279.45 199.5 281.7 194.25 284.05 188.6 284.8 184.3 L295.75 180.85 Q307.35 176.95 310.65 175.0 305.55 185.7 299.15 194.55 291.5 205.1 283.25 211.0 277.0 205.9 265.3 202.6 254.5 199.5 240.85 198.5 240.7 198.5 240.5 198.7 M177.95 185.6 Q194.75 189.3 195.7 189.2 196.95 193.7 200.8 199.7 204.25 205.15 204.95 205.05 205.4 205.0 207.2 198.7 L209.25 191.45 227.15 191.65 231.85 200.7 Q235.5 207.95 236.15 207.95 234.9 207.9 232.9 203.9 230.45 198.95 229.65 198.05 217.9 197.95 207.85 199.45 207.25 199.55 206.35 202.6 205.4 205.65 204.85 205.7 204.15 205.85 202.7 203.2 201.2 200.6 200.55 200.7 186.0 203.85 180.4 209.5 173.4 203.05 166.65 192.8 162.35 186.15 157.6 176.95 159.85 178.4 168.0 182.0 168.75 185.1 172.1 189.9 175.15 194.25 175.65 194.15 175.95 194.1 176.65 190.8 L177.95 185.6\"/><path fill=\"#593984\" d=\"M413.0 46.65 Q420.45 41.35 421.85 42.9 423.6 44.9 402.0 72.5 374.1 107.3 362.4 122.6 370.95 89.65 395.8 62.35 404.8 52.45 413.0 46.65\"/><path fill=\"#593984\" d=\"M402.9 148.1 Q376.7 170.95 371.05 176.65 373.8 155.7 399.25 138.45 408.2 132.4 416.7 129.05 424.5 126.0 424.75 127.6 424.95 128.8 402.9 148.1\"/><path fill=\"#593984\" d=\"M396.3 189.7 Q404.75 186.5 411.25 186.05 412.3 187.25 394.65 198.8 L376.75 210.1 369.3 210.25 Q379.3 196.2 396.3 189.7\"/><path fill=\"#593984\" d=\"M118.6 23.8 Q126.25 36.65 132.55 51.65 150.8 95.35 139.85 114.6 132.0 90.2 124.4 65.35 109.25 15.7 110.8 13.5 111.7 12.2 118.6 23.8\"/><path fill=\"#593984\" d=\"M87.7 105.85 Q88.45 105.2 97.0 111.7 106.8 119.2 115.25 128.05 140.6 154.55 134.6 173.05 122.25 156.8 110.25 140.25 86.15 107.15 87.7 105.85\"/><path fill=\"#593984\" d=\"M103.6 182.4 Q129.55 189.6 146.2 201.95 165.3 216.1 183.55 244.6 L103.6 182.4\"/><path fill=\"#0d131a\" d=\"M204.35 59.5 Q204.7 59.75 202.75 60.7 200.8 61.65 200.6 61.5 180.9 47.4 156.4 31.6 132.8 16.4 119.8 9.2 112.8 5.35 112.1 5.9 111.15 6.55 113.25 15.6 117.05 32.15 128.8 72.5 L140.5 112.1 Q141.6 116.2 140.65 116.95 139.65 117.75 137.95 113.05 135.55 106.6 125.2 72.45 113.8 34.75 110.0 19.2 107.7 9.6 107.35 5.55 107.0 1.05 108.85 0.2 110.55 -0.55 115.2 1.75 L127.3 8.8 Q139.15 16.05 165.2 33.2 192.25 50.95 204.35 59.5\"/><path fill=\"#0d131a\" d=\"M81.7 97.6 Q82.85 95.6 91.8 97.6 L114.85 103.45 Q135.5 108.65 138.75 108.75 139.15 108.75 139.5 110.15 139.8 111.55 139.35 111.5 134.15 111.2 118.1 107.5 L93.5 101.5 Q88.25 100.25 87.5 101.05 86.85 101.8 89.2 105.65 93.05 111.85 105.75 129.95 L133.85 170.25 Q137.0 174.7 136.1 175.65 135.15 176.65 132.1 172.35 97.1 125.55 85.05 106.25 80.75 99.3 81.7 97.6\"/><path fill=\"#0d131a\" d=\"M121.25 174.7 L107.05 176.95 Q102.45 177.6 102.35 178.35 102.3 179.05 106.2 182.15 L138.55 206.85 Q170.75 231.7 183.95 243.85 L186.9 249.4 Q173.7 237.7 139.9 211.9 L102.8 183.95 Q96.15 178.9 96.05 177.35 95.85 175.25 104.3 174.1 128.55 170.75 131.75 169.2 132.1 169.0 132.85 170.15 133.65 171.3 133.35 171.4 130.1 173.05 121.25 174.7\"/><path fill=\"#0d131a\" d=\"M313.15 63.95 Q313.55 64.2 312.15 65.1 310.75 66.0 310.35 65.75 279.75 48.05 241.95 51.55 226.2 53.0 212.65 58.05 199.75 62.9 192.3 69.65 188.75 72.8 187.95 72.1 187.1 71.35 190.45 68.0 198.15 60.3 211.3 55.0 225.0 49.5 241.3 48.05 279.7 44.6 313.15 63.95\"/><path fill=\"#0d131a\" d=\"M419.75 32.55 Q429.65 30.35 430.7 31.5 431.9 32.8 426.3 41.5 420.1 51.15 395.9 82.2 377.5 105.8 364.95 121.2 361.9 125.0 360.8 124.4 359.65 123.85 362.45 119.95 367.8 112.45 392.05 81.3 414.95 51.85 421.7 42.0 425.4 36.55 424.9 36.0 424.45 35.5 417.9 37.0 401.1 40.75 359.0 53.1 327.35 62.4 303.65 69.8 299.55 71.05 299.3 69.85 299.1 68.6 303.1 66.95 317.6 60.95 361.3 48.25 401.75 36.55 419.75 32.55\"/><path fill=\"#0d131a\" d=\"M367.25 117.7 Q366.9 117.6 367.15 116.6 367.4 115.6 367.8 115.7 373.7 117.4 394.0 117.3 L422.5 117.1 Q432.85 117.4 434.1 118.75 435.95 120.85 427.35 128.75 L398.35 153.65 Q372.0 176.3 370.1 178.85 367.25 182.55 367.1 180.8 366.9 179.05 369.6 175.95 374.45 170.35 396.65 150.9 L423.7 127.45 Q429.2 122.6 428.95 121.55 428.7 120.7 422.85 120.5 L394.05 120.3 Q373.3 119.85 367.25 117.7\"/><path fill=\"#0d131a\" d=\"M387.8 179.15 L371.35 176.05 372.8 173.95 403.35 178.7 Q415.5 180.65 416.2 183.0 416.95 185.7 405.7 193.3 399.15 197.75 391.8 202.25 L377.05 210.6 372.85 209.95 Q375.1 209.5 387.85 201.4 400.15 193.6 408.35 187.6 411.6 185.25 411.5 184.3 411.45 183.3 407.85 182.65 L387.8 179.15\"/><path fill=\"#0d131a\" d=\"M175.95 237.05 Q173.8 234.1 174.35 233.0 174.85 231.95 177.1 234.8 198.5 261.85 228.9 281.5 246.8 293.1 280.0 308.45 L292.8 314.45 293.8 317.75 Q289.35 315.6 279.15 311.4 246.6 297.95 227.4 285.6 196.6 265.85 175.95 237.05\"/><path fill=\"#0d131a\" d=\"M356.95 320.1 Q356.5 321.05 350.9 318.55 348.35 317.4 343.4 314.7 L338.25 311.9 Q341.3 316.35 357.05 337.2 365.1 347.85 364.2 349.75 363.2 351.8 351.9 344.25 L333.45 331.45 Q321.5 323.1 318.55 321.5 L321.3 327.2 Q324.55 333.85 323.65 334.65 322.65 335.55 316.05 330.9 306.5 324.3 299.65 320.8 L300.25 318.15 Q310.7 323.4 317.9 329.05 319.9 330.6 320.25 330.35 320.55 330.1 319.7 328.15 L317.05 322.15 Q315.65 319.05 316.15 318.6 316.55 318.2 319.05 319.5 325.1 322.65 348.9 338.65 L356.3 343.65 Q358.8 345.35 359.1 345.05 359.4 344.75 357.65 342.4 348.3 329.95 336.85 313.2 334.7 310.05 335.1 309.05 335.5 308.0 338.4 309.35 L343.25 311.95 Q347.65 314.4 350.15 315.45 352.6 316.5 352.85 316.05 353.1 315.65 351.6 313.1 344.15 301.05 342.45 296.25 L345.95 297.2 Q350.0 306.55 353.15 311.75 357.5 319.05 356.95 320.1\"/><path fill=\"#0d131a\" d=\"M406.3 227.9 Q414.4 244.95 409.15 255.8 405.3 263.85 395.5 273.6 384.95 284.0 376.3 287.3 370.55 289.45 369.9 288.75 369.4 288.2 371.1 282.45 374.1 272.65 372.45 262.0 370.85 251.9 366.1 246.7 363.35 243.65 364.9 243.85 366.5 244.0 369.0 247.1 380.45 261.1 372.85 285.2 381.05 283.3 392.15 272.85 402.55 263.05 406.5 254.75 408.3 251.0 408.3 246.4 408.3 236.75 401.45 225.15 395.55 215.1 391.05 212.7 387.5 210.8 377.4 211.3 367.7 211.75 366.05 213.4 364.95 214.5 361.3 221.3 L357.5 228.0 Q355.25 231.65 353.65 233.55 348.2 239.75 333.45 246.1 319.85 251.95 313.8 251.95 L310.3 251.55 305.55 251.1 Q302.95 251.15 301.65 252.5 300.25 253.85 295.5 257.65 289.4 262.45 286.6 265.15 281.75 269.8 280.85 273.1 280.6 273.9 280.6 275.45 280.6 282.0 285.55 295.4 290.25 308.15 295.95 318.0 297.8 321.15 298.3 321.45 299.15 321.95 299.15 318.15 299.15 308.75 301.45 302.9 303.05 298.85 307.15 294.1 308.45 292.65 309.8 291.9 311.15 291.1 314.3 290.1 319.6 288.45 322.5 285.35 325.3 282.35 326.05 277.7 326.65 274.0 327.25 273.65 327.9 273.2 328.05 277.7 328.2 283.7 324.5 287.4 321.6 290.35 316.0 292.1 L313.1 292.9 Q311.4 293.35 311.15 293.7 306.75 298.75 304.6 304.1 301.75 311.25 301.35 321.9 301.1 328.2 300.45 328.4 299.65 328.65 295.7 323.0 288.95 313.45 282.85 297.1 276.35 279.9 277.8 273.35 278.95 268.1 288.2 259.8 292.95 255.55 299.05 250.3 300.6 248.35 304.45 248.55 L310.6 249.5 313.8 249.85 Q316.85 249.85 331.5 243.7 347.6 236.9 351.55 232.4 354.35 229.15 358.9 220.85 363.35 212.8 364.7 211.4 367.05 209.05 378.0 208.4 389.0 207.7 392.8 209.8 395.3 211.15 399.1 216.1 403.2 221.45 406.3 227.9\"/><path fill=\"#0d131a\" d=\"M338.55 294.8 Q348.55 295.65 355.9 292.5 359.6 290.9 359.2 292.0 358.8 293.05 355.1 294.65 346.05 298.5 336.9 297.5 326.1 296.35 321.9 288.3 321.7 287.95 322.6 287.45 L323.7 287.35 Q327.1 293.8 338.55 294.8\"/><path fill=\"#0d131a\" d=\"M344.9 296.95 Q345.75 296.35 346.0 296.7 348.4 300.3 357.35 301.8 365.5 303.15 371.15 301.85 381.6 299.5 389.15 303.1 396.1 306.4 398.1 313.35 399.1 316.65 398.55 317.3 398.05 317.95 397.0 315.3 394.55 308.75 387.05 305.15 379.2 301.4 371.55 303.9 365.45 305.9 356.65 304.2 347.3 302.4 344.3 297.85 344.05 297.5 344.9 296.95\"/><path fill=\"#0d131a\" d=\"M405.1 278.25 Q407.95 281.55 414.25 285.8 L418.85 289.1 Q421.05 290.85 421.4 292.15 422.45 296.1 422.5 307.75 422.55 319.8 421.25 323.7 420.05 327.35 410.7 332.25 399.55 338.15 386.35 339.4 381.35 339.9 381.0 338.85 380.7 337.85 384.05 333.6 388.6 327.95 390.75 323.1 394.25 315.4 392.9 308.1 392.85 307.7 393.7 308.2 394.6 308.7 394.7 309.1 395.95 314.3 393.6 321.6 391.35 328.5 387.25 333.5 385.4 335.75 385.65 336.1 L388.75 336.05 Q399.85 334.5 409.6 329.55 418.25 325.15 419.35 321.9 420.15 319.45 420.15 312.95 420.15 307.35 419.6 301.2 419.1 295.15 418.45 292.85 418.15 291.6 413.1 288.2 406.7 283.85 403.75 280.6 398.6 274.95 398.25 268.2 398.25 267.95 399.3 266.95 400.35 265.95 400.35 266.35 400.35 272.8 405.1 278.25\"/><path fill=\"#0d131a\" d=\"M123.35 227.1 L129.3 226.3 138.0 225.45 Q139.15 225.45 140.8 226.55 L143.25 228.65 Q146.65 232.45 149.05 238.95 151.85 246.7 151.15 253.55 150.85 256.15 144.75 261.5 138.4 267.05 134.85 267.05 129.15 267.05 121.85 264.75 L108.2 259.6 100.35 256.6 Q97.45 255.55 93.95 255.65 L87.2 256.5 83.45 257.05 Q78.9 261.3 75.35 263.0 71.85 264.65 67.95 264.45 64.6 264.25 64.4 263.45 L65.25 260.85 Q71.5 242.75 72.65 240.15 74.7 235.6 90.7 226.8 L96.7 222.5 99.7 222.6 105.05 224.05 113.8 226.35 Q119.4 227.6 123.35 227.1 M140.9 230.2 Q138.7 227.85 137.65 227.85 L124.55 229.05 123.55 229.15 113.55 228.75 Q110.3 228.25 104.55 226.75 98.85 225.3 98.2 225.6 95.2 227.3 92.15 228.95 L81.35 235.15 Q75.55 238.85 74.55 241.0 72.6 245.4 67.95 261.6 70.2 261.8 73.35 260.75 76.8 259.6 79.85 257.35 L77.5 257.5 Q74.5 257.5 76.6 256.55 78.7 255.6 82.55 255.1 L86.85 254.45 93.95 253.25 Q97.95 252.85 101.05 253.95 L108.95 257.7 Q118.1 261.25 122.2 262.45 129.1 264.45 134.6 264.45 137.35 264.45 143.05 259.4 148.45 254.6 148.65 252.95 149.25 247.15 146.75 240.3 144.45 234.2 140.9 230.2\"/><path fill=\"#0d131a\" d=\"M40.5 194.25 Q52.65 182.95 56.45 182.6 60.35 182.2 72.45 185.7 84.7 189.25 87.65 191.8 L101.5 208.5 Q114.05 223.8 120.7 228.3 L119.05 228.55 Q116.95 228.5 116.45 228.0 110.55 222.55 97.95 208.05 87.45 195.95 85.3 193.05 83.95 192.1 71.3 188.75 58.6 185.35 56.45 185.35 54.05 185.65 42.75 196.05 31.2 206.7 30.35 209.9 29.65 212.65 29.65 216.5 29.65 225.35 33.35 237.05 36.85 247.95 41.5 255.4 43.8 259.05 44.2 258.95 44.45 258.9 44.9 255.05 45.95 246.55 47.95 239.45 49.65 233.35 51.05 231.65 53.3 228.85 57.7 224.2 63.45 218.1 64.5 218.3 65.4 218.45 68.45 220.0 70.3 220.95 74.8 223.65 78.75 225.75 80.25 225.25 L83.05 225.15 Q83.05 226.0 80.25 226.9 77.9 227.7 72.45 225.35 69.95 224.25 64.4 221.2 55.5 230.1 53.8 232.2 52.25 234.15 50.05 241.2 47.25 250.1 46.45 259.4 46.15 262.75 45.45 262.9 44.85 263.0 42.6 260.45 35.75 252.45 30.55 236.5 24.9 219.15 27.45 209.2 28.4 205.45 40.5 194.25\"/><path fill=\"#0d131a\" d=\"M27.85 231.3 L29.8 231.25 30.75 233.3 27.9 233.35 15.9 234.0 Q13.3 237.0 9.0 243.65 3.3 252.45 3.3 255.7 3.3 259.8 8.7 269.1 16.4 282.5 29.55 290.65 25.9 280.8 25.15 272.85 24.35 265.3 26.1 258.4 26.9 255.15 27.9 254.75 28.85 254.35 28.45 257.6 27.65 264.15 28.05 271.25 28.7 282.45 32.25 292.55 32.75 293.85 32.1 294.2 31.4 294.6 29.5 293.55 16.8 286.45 7.9 273.4 0.8 263.05 0.0 256.25 -0.45 252.15 5.9 242.25 11.75 233.2 14.05 231.9 15.45 231.15 18.3 231.15 L27.85 231.3\"/><path fill=\"#0d131a\" d=\"M64.15 220.45 L65.2 220.55 Q66.4 221.1 66.4 221.75 66.4 225.15 65.7 226.2 63.05 230.25 52.65 231.95 53.4 230.75 54.6 229.5 62.0 228.0 64.0 225.05 65.25 223.1 64.15 220.45\"/><path fill=\"#0d131a\" d=\"M119.25 262.7 Q119.85 262.5 121.1 263.35 122.35 264.25 121.85 264.3 118.9 264.4 111.5 270.85 103.75 277.65 100.35 278.35 L95.55 278.2 90.9 277.0 Q87.3 276.1 85.6 276.2 83.85 276.3 80.7 277.55 L75.1 279.7 Q71.2 280.95 67.95 280.8 63.25 280.6 57.9 277.65 L48.4 271.4 Q40.05 265.7 37.6 264.45 31.65 261.45 27.05 262.65 26.65 262.75 26.35 261.75 26.1 260.75 26.55 260.65 31.8 259.3 38.25 262.15 42.15 263.9 49.55 269.05 55.8 273.3 59.0 275.0 64.35 277.8 68.7 278.0 L74.95 277.35 79.95 275.6 Q83.6 274.15 85.7 274.1 87.45 274.0 91.4 274.95 L95.5 275.85 99.4 275.75 Q101.15 275.35 103.75 273.55 L108.65 269.7 Q112.2 266.75 113.95 265.55 116.9 263.45 119.25 262.7\"/><path fill=\"#0d131a\" d=\"M235.2 164.75 Q232.55 169.5 231.5 168.85 230.4 168.25 232.9 163.55 240.9 148.4 259.5 131.0 278.6 113.2 299.45 101.85 303.3 99.75 305.05 100.1 306.85 100.4 303.0 102.5 283.15 113.3 262.4 132.75 242.95 151.0 235.2 164.75\"/><path fill=\"#0d131a\" d=\"M233.4 166.95 Q232.95 166.9 233.6 166.0 234.25 165.1 234.7 165.15 241.5 166.55 255.65 165.7 271.45 164.7 283.35 161.4 290.3 159.5 293.3 155.95 295.85 152.9 297.35 145.95 299.1 138.05 299.2 126.35 299.25 114.65 297.65 104.0 297.6 103.55 298.75 103.15 299.95 102.75 300.0 103.15 301.8 114.7 302.0 126.25 302.2 138.75 300.45 146.6 298.8 154.1 295.6 157.85 291.95 162.2 284.3 164.3 272.3 167.65 255.4 168.1 241.0 168.55 233.4 166.95\"/><path fill=\"#0d131a\" d=\"M197.5 160.85 Q199.3 165.45 198.25 165.9 197.15 166.4 195.25 161.85 190.8 151.3 178.2 131.05 165.85 111.2 158.6 102.7 156.05 99.7 157.6 99.7 159.1 99.7 161.7 102.6 170.6 112.5 181.8 130.9 192.7 148.75 197.5 160.85\"/><path fill=\"#0d131a\" d=\"M162.15 104.5 Q163.1 104.8 163.0 105.2 160.3 113.85 160.6 128.3 160.9 142.7 163.95 149.65 166.55 155.65 177.55 159.55 187.35 163.0 196.65 162.65 197.1 162.65 197.3 163.6 197.5 164.55 197.05 164.55 186.9 164.9 176.25 161.5 163.75 157.5 160.85 150.8 157.75 143.7 157.95 128.6 158.1 114.0 161.0 104.6 L162.15 104.5\"/><path fill=\"#0d131a\" d=\"M177.5 184.7 Q178.05 184.15 179.4 184.5 187.6 186.65 194.15 187.75 195.75 188.0 196.3 188.75 L197.35 191.05 Q199.55 196.0 203.15 201.25 L204.45 202.9 Q204.9 202.9 205.75 200.15 L208.05 192.2 208.75 190.3 Q209.2 189.6 210.4 189.7 L225.45 190.15 Q227.05 190.15 227.65 190.7 227.95 190.95 229.05 192.95 L234.65 203.9 236.0 206.1 Q236.3 206.15 237.25 203.8 239.55 198.05 241.05 192.35 L241.65 190.1 Q242.0 189.45 243.7 189.3 256.6 188.2 269.85 185.65 L272.25 185.7 273.25 187.7 Q277.5 195.75 278.85 197.8 282.25 191.8 283.45 185.25 283.85 183.3 284.1 182.95 284.55 182.25 286.5 181.75 304.05 176.9 314.55 172.1 317.45 170.8 317.5 171.75 317.55 172.65 314.15 174.5 308.65 177.55 300.7 180.25 L285.9 184.6 Q284.8 190.15 282.6 195.65 280.2 201.65 278.8 201.5 278.3 201.45 276.65 198.6 L271.05 188.2 Q257.3 191.0 243.15 192.2 241.65 198.35 239.95 203.2 237.6 209.85 236.1 209.9 234.95 209.95 231.1 202.15 L226.75 193.0 210.05 192.45 209.75 193.55 206.55 204.9 Q205.85 207.0 205.15 207.05 203.8 207.2 200.25 201.15 197.05 195.75 195.0 190.65 186.2 189.15 178.8 186.95 177.25 195.0 176.2 196.3 175.35 197.4 171.7 191.6 168.2 186.1 167.15 182.8 161.35 180.35 155.85 177.0 151.1 174.1 151.05 172.8 151.0 171.55 155.75 174.45 159.85 176.9 167.3 180.25 L168.5 181.15 169.75 183.8 Q171.8 188.1 174.1 191.05 L175.15 192.15 175.7 190.65 176.8 186.35 Q177.2 185.05 177.5 184.7\"/><path fill=\"#0d131a\" d=\"M309.1 175.5 Q309.3 175.15 310.5 175.1 311.75 175.1 311.55 175.45 303.15 194.95 289.0 207.7 276.95 218.55 261.55 223.85 L259.65 223.9 257.6 222.5 252.45 217.55 Q251.55 216.7 251.3 216.7 251.0 216.7 250.55 217.75 L247.5 224.5 246.05 226.8 Q245.5 227.0 243.85 225.0 L237.8 217.4 236.85 216.25 Q236.5 216.2 235.6 217.75 L231.05 225.8 Q229.95 227.7 229.45 227.7 228.95 227.75 227.6 225.7 L221.85 217.0 220.65 215.45 Q220.25 215.35 219.35 216.95 L215.85 223.45 Q214.6 225.95 214.2 225.9 213.75 225.85 211.85 222.8 L206.9 215.1 Q206.3 214.15 206.0 214.15 205.7 214.15 205.3 215.2 L203.45 219.85 Q202.45 221.95 201.8 221.85 201.1 221.75 199.25 218.95 L195.4 213.2 Q194.65 212.0 194.3 212.0 194.0 211.95 193.65 212.95 L192.55 215.95 Q191.7 217.75 190.7 217.95 189.75 218.1 187.9 216.95 177.4 210.2 168.95 198.35 163.9 191.2 156.5 176.85 156.3 176.5 157.6 176.85 158.9 177.2 159.05 177.5 165.3 189.4 171.4 197.5 179.4 208.1 188.7 214.5 L190.25 215.45 Q190.65 215.45 191.15 214.1 L192.75 209.5 Q193.55 207.8 193.95 207.75 194.45 207.7 195.75 209.65 L200.3 216.75 Q201.4 218.45 201.6 218.4 201.85 218.4 202.55 216.45 L204.2 212.0 Q205.15 209.65 205.65 209.65 206.15 209.65 207.7 212.2 L213.15 221.45 214.15 222.8 215.1 221.25 218.7 213.7 Q219.85 211.4 220.4 211.4 220.9 211.4 222.35 213.6 L228.35 223.0 Q229.15 224.25 229.5 224.15 L230.4 222.7 234.6 215.0 Q235.9 212.7 236.45 212.65 237.0 212.65 238.7 214.8 L244.6 222.55 Q245.4 223.65 245.6 223.55 L246.3 222.1 249.2 215.2 Q250.1 213.15 250.6 213.1 L252.75 214.6 258.9 220.5 Q259.5 221.1 260.25 221.1 L262.0 220.7 Q276.45 215.5 287.45 205.6 300.35 194.05 309.1 175.5\"/><path fill=\"#0d131a\" d=\"M256.3 166.65 Q255.6 166.75 255.0 165.25 254.3 163.55 253.95 160.0 253.15 151.65 254.65 151.35 255.45 151.15 256.1 153.3 256.8 155.55 257.15 159.6 257.35 162.4 257.15 164.4 256.95 166.6 256.3 166.65\"/><path fill=\"#0d131a\" d=\"M184.3 149.1 Q185.0 149.1 185.5 151.15 186.0 153.05 186.2 156.2 186.45 159.55 186.2 161.35 186.0 162.7 185.65 162.75 184.15 162.9 183.65 156.6 183.3 153.1 183.5 151.05 183.7 149.1 184.3 149.1\"/></g></svg>"
      ],
      "text/plain": [
       "<IPython.core.display.SVG object>"
      ]
     },
     "metadata": {},
     "output_type": "display_data"
    }
   ],
   "source": [
    "haunter = Pokemon('haunter')"
   ]
  },
  {
   "cell_type": "code",
   "execution_count": 12,
   "metadata": {
    "scrolled": true
   },
   "outputs": [
    {
     "name": "stdout",
     "output_type": "stream",
     "text": [
      "haunter's moves:\n",
      "thunder\n",
      "toxic\n",
      "thunder-punch\n",
      "ice-punch\n"
     ]
    }
   ],
   "source": [
    "haunter.teach_move()"
   ]
  },
  {
   "cell_type": "code",
   "execution_count": 34,
   "metadata": {},
   "outputs": [
    {
     "name": "stdout",
     "output_type": "stream",
     "text": [
      "pikachu's data has been updated!\n"
     ]
    },
    {
     "data": {
      "image/svg+xml": [
       "<svg xmlns=\"http://www.w3.org/2000/svg\" version=\"1.1\" width=\"135px\" height=\"169px\" viewBox=\"-0.75 -0.25 134.7 169.1\"><g><path fill=\"#763a00\" d=\"M78.85 140.5 Q70.75 145.75 67.05 147.65 64.2 149.15 62.3 146.65 60.45 144.15 62.05 143.2 66.0 140.8 71.75 136.25 77.35 131.8 79.45 129.55 75.8 125.1 74.0 123.6 L78.0 120.6 83.75 118.95 82.65 122.4 Q83.35 122.0 87.15 120.65 L86.7 125.15 85.8 126.05 90.15 132.35 Q87.65 134.75 78.85 140.5\"/><path fill=\"#ffe100\" d=\"M132.75 45.0 Q132.65 60.0 133.0 67.05 124.4 68.95 112.1 73.0 97.45 77.85 89.65 82.15 L94.3 88.9 100.35 97.0 Q91.7 102.75 87.8 106.05 L97.0 116.35 86.7 125.15 87.15 120.65 Q83.35 122.0 82.65 122.4 L83.75 118.95 78.0 120.6 82.95 116.4 Q78.25 113.5 71.35 108.2 L82.05 96.0 69.5 81.4 53.75 63.75 Q100.65 33.5 133.0 24.85 132.8 33.4 132.75 45.0\"/><path fill=\"#763a00\" d=\"M78.0 120.45 L83.65 118.25 84.25 118.3 84.35 118.75 83.3 121.55 86.85 119.95 Q87.7 119.65 87.7 120.4 87.65 122.4 87.0 125.15 L86.0 125.9 86.5 121.45 Q85.25 121.75 82.8 122.8 81.85 123.15 82.1 122.25 L82.95 119.7 Q78.9 120.95 76.8 121.7 L78.0 120.45\"/><path fill=\"#542400\" d=\"M79.2 140.3 L66.95 147.25 Q70.95 144.7 78.25 138.8 L88.5 130.0 90.25 132.35 Q86.5 135.8 79.2 140.3\"/><path fill=\"#f9be00\" d=\"M111.7 73.2 Q99.4 77.35 88.85 81.7 94.8 77.65 109.05 71.0 124.7 63.7 132.7 61.9 L132.9 67.05 Q124.95 68.75 111.7 73.2\"/><path fill=\"#f9be00\" d=\"M97.6 93.55 L100.45 97.05 86.9 105.8 Q94.8 96.05 97.6 93.55\"/><path fill=\"#f9be00\" d=\"M96.8 116.45 L92.5 119.9 87.2 124.25 87.5 122.25 Q92.15 115.25 94.1 113.25 L96.8 116.45\"/><path fill=\"#542400\" d=\"M87.2 124.25 L85.2 125.75 87.5 122.25 87.2 124.25\"/><path fill=\"#0d131a\" d=\"M133.85 24.35 Q133.5 29.15 133.6 45.4 L133.8 67.55 133.45 68.0 Q122.7 70.3 110.2 74.55 98.45 78.6 90.8 82.45 94.0 87.3 101.3 96.95 101.6 97.3 101.2 97.55 93.3 102.75 88.95 106.15 L97.85 116.3 Q98.15 116.6 97.8 116.9 L91.2 122.35 Q87.75 125.2 86.8 126.2 L90.95 132.35 90.9 132.9 Q88.95 134.85 82.2 139.2 75.05 143.75 67.5 147.75 L66.6 147.85 Q66.45 147.55 67.15 147.15 85.2 135.95 89.15 132.3 L85.1 126.35 Q84.9 126.05 85.15 125.8 L89.35 121.75 95.6 116.35 Q90.0 109.6 86.8 106.4 86.45 106.05 86.85 105.8 92.9 100.95 99.05 96.9 92.7 88.4 88.65 82.3 88.35 81.9 88.8 81.7 96.7 77.7 108.4 73.5 121.35 68.8 132.0 66.5 131.55 59.7 131.6 45.65 131.65 31.9 132.05 26.1 115.6 30.6 92.15 42.45 70.25 53.5 55.45 64.15 62.25 71.45 83.0 95.85 83.25 96.15 83.0 96.4 L77.55 102.45 72.55 108.15 Q81.45 114.85 83.6 116.2 84.05 116.5 83.65 116.9 L75.45 123.7 Q77.8 126.05 80.35 129.5 80.6 129.8 80.35 130.05 78.55 132.2 72.65 136.6 66.85 140.9 62.5 143.35 L61.7 143.45 Q61.5 143.2 62.05 142.8 L71.35 135.85 Q76.75 131.6 78.45 129.65 75.6 125.95 73.35 124.0 73.0 123.65 73.4 123.35 L81.65 116.6 Q76.8 113.4 70.45 108.7 70.1 108.4 70.4 108.1 L80.9 96.05 66.75 79.6 52.95 64.2 Q52.65 63.85 53.0 63.55 68.0 52.45 91.85 40.6 116.35 28.4 133.35 23.9 133.95 23.75 133.85 24.35\"/><path fill=\"#0d131a\" d=\"M12.5 12.55 Q9.45 14.25 7.15 20.4 5.2 25.6 4.9 30.5 2.6 23.6 1.35 12.55 0.05 1.25 1.7 0.8 3.3 0.35 6.6 4.2 9.25 7.3 12.5 12.55\"/><path fill=\"#ffe100\" d=\"M91.25 7.85 Q92.9 10.5 92.6 17.65 92.3 23.95 90.9 28.6 87.2 32.55 82.1 36.4 76.35 40.8 72.3 42.25 76.95 46.0 79.75 50.9 81.6 54.1 83.0 58.75 85.4 66.3 83.3 74.85 81.45 82.35 77.45 86.4 68.25 95.0 53.65 96.95 41.15 98.65 29.6 95.2 24.65 93.55 20.5 89.25 15.85 84.5 14.0 78.15 12.2 72.05 13.25 65.6 14.05 60.5 16.5 55.85 13.4 52.35 9.55 43.7 6.35 36.35 5.0 31.3 5.25 23.95 7.9 18.5 9.9 14.4 12.3 12.7 16.25 18.35 20.15 28.35 24.25 38.8 24.8 45.35 31.95 38.8 42.85 36.45 52.8 34.3 60.3 36.55 65.4 28.45 75.95 19.0 85.5 10.5 91.25 7.85\"/><path fill=\"#ffe100\" d=\"M33.95 92.7 Q43.6 88.05 51.05 86.4 57.05 85.1 67.0 85.15 76.8 85.15 77.45 86.4 80.25 91.75 83.05 101.5 86.05 112.1 87.45 122.45 91.0 149.25 81.65 156.25 74.8 161.45 57.7 155.1 50.2 152.4 46.65 151.55 42.1 150.5 37.3 150.7 32.45 150.9 28.7 149.6 25.3 148.45 23.8 146.55 20.4 142.15 21.25 131.7 21.9 123.85 24.45 115.75 L27.3 107.65 30.1 100.1 Q30.65 98.75 32.35 95.6 L33.95 92.7\"/><path fill=\"#ffe100\" d=\"M33.95 92.7 Q35.55 92.15 36.45 95.7 37.4 99.45 36.1 103.5 34.7 107.8 30.75 111.9 26.85 116.0 24.45 115.75 21.8 115.8 19.25 114.95 17.0 114.15 16.9 113.45 16.9 112.4 18.0 111.6 L16.2 108.3 Q15.3 106.5 15.4 106.2 15.65 105.8 17.35 105.95 17.3 103.0 19.55 104.2 19.65 101.85 21.5 103.55 23.0 101.15 25.5 98.7 27.65 96.55 29.6 95.2 31.2 93.65 33.95 92.7\"/><path fill=\"#0d131a\" d=\"M91.25 7.85 Q96.45 5.15 101.9 3.4 108.65 1.25 109.75 2.9 111.15 5.0 103.45 15.0 96.35 24.15 90.55 29.1 92.35 23.55 92.6 17.9 92.85 11.95 91.25 7.85\"/><path fill=\"#ffe100\" d=\"M15.95 146.25 Q18.6 144.05 21.65 143.1 24.45 149.75 33.7 150.65 29.3 152.85 23.25 153.8 17.15 154.7 16.1 153.3 14.05 153.8 13.7 152.75 13.4 151.9 14.1 150.85 12.65 148.95 15.95 146.25\"/><path fill=\"#ffe100\" d=\"M72.8 158.55 Q76.85 158.7 80.2 157.15 83.35 155.7 84.65 153.4 87.25 157.7 87.85 161.55 88.45 165.5 86.65 166.55 86.6 168.0 85.3 168.0 84.15 167.95 83.4 167.05 82.8 168.7 78.6 165.6 74.3 162.4 72.8 158.55\"/><path fill=\"#b50005\" d=\"M40.95 77.95 L44.35 75.75 Q45.35 75.0 47.35 74.4 L50.15 73.9 54.4 73.45 Q54.25 74.9 53.3 76.35 L47.8 76.65 Q44.95 77.7 44.25 79.8 L40.95 77.95\"/><path fill=\"#e50012\" d=\"M44.2 79.75 Q45.2 77.8 47.85 76.7 50.75 75.5 53.4 76.4 49.3 81.8 44.2 79.75\"/><path fill=\"#f9be00\" d=\"M17.0 112.75 Q17.8 113.35 20.6 113.4 L25.2 112.9 24.5 115.65 Q21.75 115.75 19.05 114.8 16.2 113.8 17.0 112.75\"/><path fill=\"#f9be00\" d=\"M47.25 98.05 Q47.2 97.35 50.7 96.8 L54.3 97.0 Q54.35 97.6 52.95 98.25 L50.75 98.9 48.6 98.8 Q47.25 98.55 47.25 98.05\"/><path fill=\"#f9be00\" d=\"M21.25 134.6 Q23.05 147.95 35.95 146.9 42.45 146.35 48.5 147.8 53.7 149.05 61.05 152.45 69.35 156.35 77.45 153.35 87.8 149.55 88.75 135.05 88.65 146.4 85.75 151.7 81.1 160.35 68.5 158.05 64.3 157.3 52.7 153.45 43.2 150.3 40.25 150.65 30.95 151.75 25.85 148.0 20.2 143.85 21.25 134.6\"/><path fill=\"#f9be00\" d=\"M17.65 145.2 Q17.9 144.85 19.75 144.15 L22.0 143.35 Q23.0 146.25 26.95 148.5 30.55 150.55 33.65 150.55 30.5 152.25 26.6 153.1 21.95 146.15 17.65 145.2\"/><path fill=\"#f9be00\" d=\"M76.6 163.9 L74.55 161.4 Q73.55 159.9 73.15 158.55 80.45 159.3 84.55 153.45 86.2 156.0 86.55 157.15 83.2 157.35 80.4 159.2 77.55 161.05 76.6 163.9\"/><path fill=\"#0d131a\" d=\"M25.15 62.8 Q27.5 62.15 29.65 63.6 31.75 65.05 32.5 67.8 33.3 70.45 32.05 72.6 30.9 74.6 28.5 75.35 26.1 76.05 23.75 74.85 21.45 73.65 20.8 71.3 20.0 68.55 21.2 66.1 22.4 63.55 25.15 62.8\"/><path fill=\"#ffffff\" d=\"M24.85 63.5 L27.1 63.6 Q28.15 64.1 28.55 65.15 28.95 66.3 28.55 67.35 28.1 68.45 26.9 68.9 L24.65 68.8 Q23.6 68.3 23.25 67.15 22.9 65.95 23.4 64.9 23.85 63.85 24.85 63.5\"/><path fill=\"#0d131a\" d=\"M60.95 51.5 Q63.75 50.6 66.4 52.1 69.15 53.6 69.75 56.65 70.3 59.2 69.0 61.55 67.75 63.9 65.4 64.7 62.65 65.65 60.15 64.35 57.75 63.1 56.9 60.6 55.9 57.5 57.2 54.85 58.4 52.3 60.95 51.5\"/><path fill=\"#ffffff\" d=\"M60.6 52.25 Q61.7 51.75 62.85 52.25 64.0 52.7 64.45 53.85 64.85 54.9 64.45 56.05 64.05 57.3 62.9 57.7 61.7 58.15 60.65 57.7 59.55 57.25 59.1 56.15 58.65 55.05 59.05 53.9 59.45 52.75 60.6 52.25\"/><path fill=\"#0d131a\" d=\"M43.9 70.65 Q43.85 70.45 44.95 70.15 L46.05 69.95 45.75 70.6 45.1 71.05 44.4 71.0 43.9 70.65\"/><path fill=\"#e50012\" d=\"M78.1 63.9 Q80.0 64.65 80.6 67.85 81.25 71.05 80.1 74.1 78.85 77.55 76.2 79.25 73.55 80.95 71.3 79.85 69.05 78.8 68.35 75.8 67.6 72.65 69.1 69.4 70.7 65.95 73.35 64.4 75.85 63.0 78.1 63.9\"/><path fill=\"#e50012\" d=\"M25.1 82.9 Q27.3 85.7 28.05 88.45 28.8 91.35 27.4 92.35 26.05 93.3 23.55 91.8 21.4 90.55 18.95 87.85 16.8 85.4 15.95 82.8 15.1 80.15 16.2 79.05 17.55 77.8 20.3 79.0 22.95 80.15 25.1 82.9\"/><path fill=\"#0d131a\" d=\"M5.15 1.95 Q11.15 7.65 16.8 18.7 23.5 31.85 25.3 44.95 L24.3 45.85 Q22.25 32.7 15.2 19.1 9.85 8.7 4.45 2.75 2.9 1.15 2.2 1.2 1.3 1.3 1.25 3.85 1.0 12.55 4.8 27.25 9.4 45.05 16.7 55.3 L16.2 56.55 Q8.25 46.3 3.45 28.6 -0.75 13.05 0.1 3.7 0.35 0.4 1.65 0.05 2.85 -0.25 5.15 1.95\"/><path fill=\"#0d131a\" d=\"M5.6 32.25 L4.55 29.7 Q5.0 23.65 6.95 19.05 8.85 14.5 11.95 12.1 L12.7 13.15 Q9.45 15.7 7.6 20.9 5.8 25.9 5.6 32.25\"/><path fill=\"#0d131a\" d=\"M93.55 25.2 Q103.85 14.45 108.4 6.5 109.85 4.0 109.3 3.25 L105.55 3.15 Q96.8 4.85 85.9 12.05 71.4 21.6 60.85 36.7 L59.7 36.35 Q70.8 20.0 85.05 10.65 95.7 3.65 105.25 2.05 109.55 1.3 110.4 2.6 111.15 3.8 109.45 7.05 104.7 15.95 94.25 26.65 82.45 38.7 72.85 42.7 L71.8 41.95 Q81.25 37.95 93.55 25.2\"/><path fill=\"#0d131a\" d=\"M91.6 28.0 L89.75 29.55 Q92.0 22.5 92.05 15.95 92.05 10.5 90.85 8.45 L91.85 7.75 Q93.15 10.0 93.35 15.0 93.55 21.2 91.6 28.0\"/><path fill=\"#0d131a\" d=\"M79.55 92.4 Q79.2 91.25 79.55 91.1 79.95 90.95 80.35 92.1 89.1 116.35 89.0 135.5 88.85 154.85 79.6 158.45 74.55 160.4 65.15 158.3 59.45 157.05 50.2 153.65 46.35 152.25 44.3 151.8 L38.1 151.35 30.25 150.85 Q25.75 149.85 22.85 146.6 19.15 142.55 21.0 129.15 22.85 115.45 29.45 100.75 29.9 99.75 30.3 99.9 30.65 100.05 30.2 101.05 24.15 115.85 22.4 128.9 20.75 141.7 24.15 145.5 26.9 148.6 30.8 149.5 L38.1 150.05 44.9 150.5 Q46.95 150.9 50.65 152.35 70.7 159.95 78.95 156.8 87.4 153.6 87.25 134.65 87.15 116.65 79.55 92.4\"/><path fill=\"#0d131a\" d=\"M28.8 94.95 L30.25 95.4 Q25.05 99.0 21.1 104.8 20.55 105.65 20.25 105.5 19.95 105.3 20.5 104.45 24.1 98.3 28.8 94.95\"/><path fill=\"#0d131a\" d=\"M37.0 78.5 Q36.55 78.2 36.75 77.95 L37.45 77.9 Q39.3 78.6 43.0 75.95 45.15 74.4 46.75 73.9 48.35 73.35 51.3 73.25 L54.65 72.75 Q56.0 72.25 56.35 71.05 56.6 70.45 56.9 70.55 57.2 70.6 57.1 71.25 56.5 74.3 51.3 74.5 L47.1 75.1 Q45.6 75.6 43.65 77.0 39.35 80.1 37.0 78.5\"/><path fill=\"#0d131a\" d=\"M41.5 77.55 Q45.5 80.65 48.9 79.45 50.7 78.8 52.05 77.15 53.4 75.5 53.9 73.45 L55.25 73.2 Q54.9 75.55 53.15 77.55 51.5 79.45 49.25 80.3 L44.95 80.55 Q42.6 80.05 40.4 78.3 L41.5 77.55\"/><path fill=\"#0d131a\" d=\"M14.1 147.4 Q16.4 144.4 21.55 142.5 L22.0 143.7 Q17.6 145.45 15.45 147.65 13.6 149.6 14.35 150.55 L13.6 151.6 Q12.0 150.15 14.1 147.4\"/><path fill=\"#0d131a\" d=\"M18.05 147.25 Q18.75 146.9 18.9 147.25 19.1 147.55 18.4 147.95 16.7 148.95 15.45 150.35 14.1 151.8 14.4 152.55 L16.1 152.7 16.55 153.8 14.5 154.0 Q13.3 153.85 13.05 153.15 12.55 151.8 14.4 149.85 16.05 148.1 18.05 147.25\"/><path fill=\"#0d131a\" d=\"M32.95 150.5 L35.0 150.8 Q29.45 153.55 22.55 154.5 15.75 155.4 15.2 153.55 14.9 152.6 16.45 151.15 18.1 149.55 20.3 149.0 21.0 148.85 21.1 149.15 21.2 149.5 20.55 149.75 18.9 150.4 17.7 151.4 16.55 152.4 16.7 153.0 16.9 153.85 21.7 153.4 27.3 152.85 32.95 150.5\"/><path fill=\"#0d131a\" d=\"M72.1 158.5 L73.55 158.4 Q74.9 162.05 78.55 164.9 81.8 167.45 82.75 166.9 83.2 166.6 82.6 164.95 82.05 163.3 80.85 161.35 80.5 160.85 80.8 160.65 81.05 160.5 81.45 160.95 83.0 162.8 83.65 165.15 84.3 167.6 83.35 168.1 81.9 168.85 78.0 165.95 73.65 162.7 72.1 158.5\"/><path fill=\"#0d131a\" d=\"M84.55 160.3 Q84.25 159.6 84.6 159.45 84.9 159.3 85.25 159.95 87.0 163.25 87.1 165.8 87.15 168.0 86.05 168.45 L84.7 168.5 Q83.8 168.3 83.1 167.55 L83.6 166.45 Q84.85 167.7 85.6 167.35 86.2 167.05 86.0 165.25 85.75 163.25 84.55 160.3\"/><path fill=\"#0d131a\" d=\"M84.15 153.9 L85.05 152.8 Q87.8 157.35 88.4 161.7 89.0 166.45 86.45 167.55 L86.6 166.15 Q87.85 164.95 87.1 161.25 86.35 157.65 84.15 153.9\"/><path fill=\"#0d131a\" d=\"M53.5 75.85 L53.05 76.75 Q50.85 76.05 48.2 77.05 45.55 78.05 44.7 79.9 L43.7 79.6 Q44.75 77.35 47.65 76.2 50.55 75.05 53.5 75.85\"/><path fill=\"#0d131a\" d=\"M17.6 53.15 Q18.15 52.35 18.5 52.55 18.85 52.8 18.35 53.6 14.95 59.4 14.05 65.6 13.15 71.85 14.85 78.0 16.7 84.7 21.5 89.3 26.25 93.8 33.25 95.75 34.6 96.15 34.5 96.5 L33.05 96.65 Q25.85 95.25 20.4 90.3 14.95 85.35 13.05 78.45 11.3 72.15 12.5 65.45 13.7 58.7 17.6 53.15\"/><path fill=\"#0d131a\" d=\"M50.35 35.0 Q57.1 34.8 62.45 36.8 63.35 37.15 63.25 37.5 L62.2 37.6 Q50.6 34.4 37.6 38.9 29.35 41.7 23.7 47.0 23.0 47.65 22.75 47.4 22.45 47.1 23.1 46.4 28.4 40.4 37.1 37.4 43.75 35.15 50.35 35.0\"/><path fill=\"#0d131a\" d=\"M83.2 56.3 Q85.65 63.25 84.6 71.5 83.4 80.85 78.0 86.5 77.35 87.2 77.1 86.95 76.8 86.7 77.35 85.95 82.05 79.8 83.05 71.15 83.95 63.35 81.6 56.8 78.15 46.95 70.2 41.35 69.35 40.75 69.6 40.45 69.8 40.15 70.7 40.65 74.9 43.1 78.2 47.2 81.45 51.3 83.2 56.3\"/><path fill=\"#0d131a\" d=\"M21.65 103.1 L21.05 103.85 Q20.45 103.4 20.2 103.5 L20.0 104.1 19.7 104.75 18.95 104.55 18.2 104.4 Q17.85 104.55 17.8 105.4 L17.6 106.35 16.7 106.35 15.95 106.5 Q15.75 106.8 17.1 109.15 L18.5 111.6 17.95 112.3 Q17.35 112.9 17.4 113.3 17.5 113.9 20.25 114.55 L24.55 115.0 24.3 116.2 Q22.15 116.4 19.25 115.4 16.35 114.45 16.15 113.5 16.0 112.6 17.35 111.55 14.5 106.8 14.85 105.95 15.0 105.6 15.75 105.5 L17.0 105.6 Q16.9 104.95 17.1 104.3 17.25 103.65 17.6 103.45 L18.35 103.35 Q18.85 103.45 19.2 103.7 19.3 102.55 19.9 102.4 L20.75 102.55 21.65 103.1\"/><path fill=\"#ffe100\" d=\"M94.05 98.6 Q88.8 105.25 81.2 107.9 75.95 109.7 69.45 103.55 62.9 97.35 66.05 92.95 69.25 88.5 74.75 84.15 81.15 79.05 86.8 77.5 88.85 74.25 89.45 74.1 L90.9 74.4 Q91.95 74.9 92.75 76.15 95.4 76.5 97.2 78.6 99.1 80.75 99.25 83.9 99.55 91.6 94.05 98.6\"/><path fill=\"#f9be00\" d=\"M98.7 81.3 Q101.5 88.85 94.8 97.85 88.5 106.4 81.15 107.4 87.95 104.25 93.55 95.85 99.1 87.5 98.7 81.3\"/><path fill=\"#0d131a\" d=\"M91.25 74.1 Q92.35 74.6 93.1 75.8 99.4 76.55 100.0 84.55 100.5 91.25 95.55 98.1 90.15 105.45 81.6 108.15 L80.55 108.05 Q80.4 107.65 81.3 107.3 89.05 104.35 94.15 97.5 99.1 90.85 98.7 84.7 98.2 78.0 93.1 76.8 92.45 76.75 92.25 76.3 91.9 75.65 91.0 75.25 L89.45 75.0 Q89.0 75.15 88.25 76.4 87.5 77.75 87.05 77.9 81.2 80.2 76.75 83.35 71.55 87.05 66.75 92.8 66.15 93.5 65.8 93.25 65.5 93.0 66.05 92.2 71.3 85.4 77.1 81.5 81.25 78.7 86.35 77.05 L87.6 75.45 Q88.5 74.0 89.25 73.85 90.2 73.6 91.25 74.1\"/><path fill=\"#0d131a\" d=\"M90.1 77.05 L91.0 76.9 Q91.25 77.05 90.75 77.6 90.2 78.25 90.2 78.45 90.2 78.8 90.5 79.25 L90.8 79.85 90.4 80.4 Q90.0 80.85 90.0 81.4 90.0 82.05 90.4 82.65 L90.8 83.4 90.55 84.0 Q90.25 84.5 90.3 84.9 90.35 85.3 90.9 85.9 L91.5 86.65 91.25 87.4 Q91.05 88.0 91.15 88.5 L91.95 89.2 93.3 89.65 Q93.95 89.7 93.95 90.05 L93.4 90.45 91.55 90.15 Q90.45 89.7 90.2 88.95 90.05 88.55 90.15 87.9 90.25 87.2 90.6 86.8 L89.75 86.1 Q89.35 85.6 89.3 85.1 89.1 84.2 90.0 83.4 89.05 82.6 88.9 81.55 88.8 80.45 89.9 79.7 89.25 79.2 89.25 78.35 89.2 78.0 89.5 77.6 L90.1 77.05\"/><path fill=\"#0d131a\" d=\"M17.6 53.15 Q18.15 52.35 18.5 52.55 18.85 52.8 18.35 53.6 14.95 59.4 14.05 65.6 13.15 71.85 14.85 78.0 16.7 84.7 21.5 89.3 26.25 93.8 33.25 95.75 34.6 96.15 34.5 96.5 L33.05 96.65 Q25.85 95.25 20.4 90.3 14.95 85.35 13.05 78.45 11.3 72.15 12.5 65.45 13.7 58.7 17.6 53.15\"/></g></svg>"
      ],
      "text/plain": [
       "<IPython.core.display.SVG object>"
      ]
     },
     "metadata": {},
     "output_type": "display_data"
    }
   ],
   "source": [
    "pikachu = Pokemon('pikachu')"
   ]
  },
  {
   "cell_type": "code",
   "execution_count": 36,
   "metadata": {},
   "outputs": [
    {
     "name": "stdout",
     "output_type": "stream",
     "text": [
      "What would you like to teach your pikachu? thunder\n",
      "Congrats, pikachu learned thunder!\n",
      "Would you like to teach pikachu another move? no\n",
      "pikachu's moves:\n",
      "spark\n",
      "surf\n",
      "thunder\n"
     ]
    }
   ],
   "source": [
    "pikachu.teach_move()"
   ]
  },
  {
   "cell_type": "code",
   "execution_count": 39,
   "metadata": {},
   "outputs": [
    {
     "name": "stdout",
     "output_type": "stream",
     "text": [
      "charmander's data has been updated!\n"
     ]
    },
    {
     "data": {
      "image/svg+xml": [
       "<svg xmlns=\"http://www.w3.org/2000/svg\" version=\"1.1\" width=\"175px\" height=\"202px\" viewBox=\"-0.4 -0.65 175.1 201.6\"><g><path fill=\"#ef8200\" d=\"M159.45 131.2 Q158.55 146.6 148.9 157.05 140.4 166.25 126.95 170.0 114.5 173.5 102.45 171.25 90.3 169.0 84.35 161.95 85.4 159.5 86.6 154.9 88.35 148.2 88.05 144.35 93.9 150.7 102.55 154.1 111.7 157.7 121.0 156.75 143.75 154.45 155.3 128.25 L156.2 129.75 Q157.5 131.2 159.45 131.2\"/><path fill=\"#ddd583\" d=\"M84.35 162.1 Q97.6 174.0 116.7 172.15 134.15 170.45 148.65 158.55 133.9 175.7 111.15 176.2 102.1 176.35 94.1 173.65 86.6 171.05 82.9 166.95 L84.35 162.1\"/><path fill=\"#cf7100\" d=\"M85.85 157.2 Q96.15 168.15 115.05 167.9 132.9 167.65 148.05 157.95 135.55 170.45 116.65 172.05 97.15 173.7 84.35 162.1 L85.85 157.2\"/><path fill=\"#ef8200\" d=\"M70.65 43.25 Q70.05 46.45 67.25 55.35 64.7 63.5 64.6 64.9 64.45 66.85 65.6 74.25 66.5 80.3 67.35 84.6 71.65 107.15 77.0 115.75 83.35 125.9 85.6 131.5 89.75 141.85 87.7 150.35 L83.85 163.8 Q82.35 168.7 82.25 171.9 L85.15 178.1 Q87.75 184.7 86.5 186.85 84.75 189.75 82.25 191.6 79.2 193.85 75.5 194.2 71.15 194.6 66.3 192.8 61.05 190.9 61.0 188.25 L61.15 180.35 Q61.1 174.65 59.95 172.1 L56.8 168.8 Q53.5 164.9 52.8 162.15 L45.25 160.8 42.9 162.55 Q40.45 164.6 40.2 166.15 L41.85 169.45 Q43.4 173.05 42.75 174.25 41.85 175.9 34.65 178.5 26.85 181.3 21.35 181.3 15.35 181.3 10.15 177.8 4.9 174.3 8.35 172.4 L14.6 168.9 Q10.55 166.25 8.95 161.35 5.85 151.6 18.3 140.55 15.8 136.45 14.6 126.7 13.15 115.5 15.05 105.85 L11.95 109.15 Q9.6 111.45 8.4 111.1 7.55 110.85 7.05 108.5 L6.75 106.15 Q1.5 107.9 1.1 106.55 0.65 105.0 1.05 103.55 1.75 101.05 4.9 97.7 6.85 93.3 10.35 87.85 17.35 77.05 25.2 72.0 21.85 71.35 19.85 69.65 16.3 66.7 11.05 59.2 3.75 48.9 3.9 42.15 3.95 38.75 6.85 34.55 9.45 30.65 10.95 30.45 L16.3 16.9 Q15.95 16.25 15.85 15.35 15.6 13.6 16.7 12.4 21.3 7.4 25.7 5.0 35.9 -0.6 49.5 1.4 59.35 2.8 66.25 15.45 73.45 28.7 70.65 43.25\"/><path fill=\"#cf7100\" d=\"M4.05 103.65 Q7.3 101.25 9.2 101.05 10.7 100.9 10.4 101.95 10.05 102.95 8.15 103.7 L5.15 104.05 4.05 103.65\"/><path fill=\"#cf7100\" d=\"M8.25 111.4 Q12.05 105.4 15.7 101.3 L15.35 105.45 Q9.45 111.55 8.25 111.4\"/><path fill=\"#cf7100\" d=\"M32.4 71.0 Q39.5 69.75 43.6 67.8 L46.45 67.75 Q46.7 68.9 44.95 71.2 40.4 77.35 35.15 77.3 31.15 77.25 29.05 75.8 27.3 74.6 26.1 71.85 L32.4 71.0\"/><path fill=\"#cf7100\" d=\"M53.7 164.45 Q47.95 154.85 51.0 145.7 50.45 151.35 55.5 155.6 60.15 159.45 67.3 160.5 74.5 161.6 80.0 159.05 85.75 156.4 87.2 150.6 L86.15 155.35 84.25 162.9 Q83.55 164.9 82.95 168.05 82.3 171.25 82.35 172.2 82.45 173.55 85.8 181.4 82.8 176.1 72.7 176.55 62.5 177.0 60.85 182.95 60.85 173.75 60.1 172.2 56.6 169.25 53.7 164.45\"/><path fill=\"#cf7100\" d=\"M21.75 160.8 Q24.85 158.85 25.2 155.35 25.55 151.95 23.1 148.3 27.95 154.45 36.8 158.05 41.7 160.0 45.6 160.55 43.7 161.3 41.75 163.85 L40.15 166.2 Q41.35 167.8 42.0 170.1 42.6 172.25 42.5 173.95 42.4 175.45 38.7 177.0 36.4 178.0 29.15 180.25 L22.75 181.3 18.9 181.15 Q24.05 179.8 22.6 176.45 21.3 173.35 14.85 169.4 11.5 167.35 9.6 162.3 L8.35 157.65 Q10.95 161.3 15.0 162.05 18.7 162.75 21.75 160.8\"/><path fill=\"#fff697\" d=\"M36.9 79.2 Q41.15 84.75 44.85 92.8 55.0 114.6 53.6 137.25 L50.95 145.25 Q48.95 154.65 52.3 161.5 44.3 161.2 35.6 157.3 18.25 149.45 15.05 131.35 12.5 117.05 16.35 99.05 18.55 89.0 22.15 79.9 23.35 78.45 25.1 76.95 28.6 74.05 31.3 74.15 33.1 74.2 36.9 79.2\"/><path fill=\"#ddd583\" d=\"M35.85 77.25 L31.4 77.0 Q29.6 76.5 28.1 75.0 L29.35 74.5 31.9 74.55 Q33.7 75.25 35.85 77.25\"/><path fill=\"#ddd583\" d=\"M33.1 143.8 Q43.75 146.0 51.5 142.4 50.45 143.15 50.15 149.4 49.8 157.0 52.3 161.6 44.4 162.1 34.9 157.2 20.1 149.6 15.25 132.1 20.9 141.3 33.1 143.8\"/><path fill=\"#922f00\" d=\"M9.3 46.4 L11.65 48.45 Q14.55 50.7 17.4 51.85 L19.85 52.45 Q16.15 53.55 13.5 56.0 10.85 51.6 9.3 46.4\"/><path fill=\"#ed8599\" d=\"M19.85 52.45 L35.8 54.0 Q46.1 54.65 48.75 54.35 46.95 58.1 38.25 62.25 28.65 66.9 21.9 65.5 20.85 65.25 18.6 62.85 15.85 60.0 13.5 56.0 16.15 53.55 19.85 52.45\"/><path fill=\"#ce7486\" d=\"M13.8 56.1 Q13.45 55.55 16.65 53.9 L19.9 52.4 38.4 53.95 48.75 54.35 Q46.9 56.95 43.1 59.4 41.25 60.65 39.7 61.35 35.9 58.0 27.45 56.2 18.85 54.35 13.8 56.1\"/><path fill=\"#ffffff\" d=\"M50.1 23.9 Q47.65 29.15 46.95 34.7 46.15 40.75 47.65 45.9 44.85 45.75 44.6 45.2 43.3 41.8 44.9 34.7 46.6 27.1 50.1 23.9\"/><path fill=\"#0d131a\" d=\"M54.35 22.2 Q58.9 22.6 59.05 32.7 59.2 41.0 57.75 44.45 57.35 45.4 53.85 45.8 50.85 46.1 47.65 45.9 46.15 40.75 46.95 34.7 47.65 29.15 50.1 23.9 52.1 22.0 54.35 22.2\"/><path fill=\"#0d131a\" d=\"M11.05 30.35 Q12.0 26.25 13.45 22.35 16.35 14.5 18.9 15.55 21.25 16.55 18.65 26.95 16.0 37.35 13.95 36.7 12.5 36.2 11.65 33.25 L11.05 30.35\"/><path fill=\"#ffffff\" d=\"M7.25 44.7 Q7.8 45.95 11.55 48.15 9.6 49.95 8.8 49.7 8.05 49.45 7.25 44.7\"/><path fill=\"#ffffff\" d=\"M13.7 56.3 L14.9 56.0 16.3 56.15 Q16.6 56.65 15.75 59.15 L13.7 56.3\"/><path fill=\"#ffffff\" d=\"M31.1 64.95 L31.45 63.35 Q31.9 61.75 32.45 61.65 33.35 61.55 34.5 63.55 L31.1 64.95\"/><path fill=\"#ffffff\" d=\"M32.25 53.6 L38.35 54.05 Q35.65 57.3 34.6 57.3 33.5 57.3 32.25 53.6\"/><path fill=\"#ffffff\" d=\"M17.7 178.6 Q18.3 177.75 19.85 176.85 L21.25 176.1 Q22.9 176.4 23.9 178.6 L24.55 180.8 Q22.95 182.3 18.6 183.0 L14.1 183.15 Q13.8 182.85 14.65 181.9 L15.5 180.95 10.2 181.7 7.25 181.4 Q6.95 181.1 8.0 179.95 L9.1 178.9 5.15 179.25 Q1.1 179.4 0.9 178.5 0.65 177.65 4.25 174.95 7.95 172.2 9.1 173.0 10.35 173.8 11.05 176.65 L12.15 175.55 Q13.45 174.45 14.7 174.55 15.95 174.65 16.95 176.65 L17.7 178.6\"/><path fill=\"#efe908\" d=\"M147.85 85.45 L148.4 87.55 Q148.55 89.05 148.05 90.2 147.7 91.1 147.95 92.2 148.2 93.4 149.05 94.4 L149.45 92.75 152.7 96.0 152.65 98.75 153.6 100.45 Q154.15 101.4 154.25 103.7 L157.0 105.4 155.1 108.6 Q154.55 109.5 154.5 111.5 154.45 112.5 154.55 113.3 L159.0 110.6 159.1 111.6 159.1 113.15 Q158.55 116.15 159.3 117.0 161.0 119.0 161.35 120.2 161.8 121.75 160.8 123.8 159.75 125.95 159.7 128.3 159.7 130.35 160.35 131.0 L158.1 130.85 Q156.8 130.25 155.45 128.4 154.25 126.65 151.15 125.85 L147.25 125.15 Q146.0 124.9 144.5 122.75 142.85 120.4 143.2 118.4 143.45 116.85 144.75 114.25 145.85 111.9 145.85 111.25 145.8 110.6 144.75 108.65 143.7 106.8 143.7 106.05 143.7 105.35 144.75 102.8 145.8 100.35 145.7 99.8 L145.05 97.9 Q144.5 96.5 144.5 95.7 144.5 94.9 145.3 93.5 L146.15 91.75 Q146.25 90.4 145.7 88.2 144.9 84.8 147.45 82.35 L147.5 83.55 Q147.55 84.9 147.85 85.45\"/><path fill=\"#e50020\" d=\"M163.4 87.3 Q164.9 88.45 165.0 90.25 165.15 93.3 164.45 97.0 L166.15 95.55 Q168.0 94.15 168.45 94.45 169.2 95.0 167.8 103.5 L168.7 102.8 Q169.65 102.15 169.85 102.45 170.15 102.9 169.5 110.2 L173.55 103.55 173.5 105.55 Q173.45 107.7 173.55 108.15 L173.65 110.3 173.2 112.95 Q172.05 116.15 172.4 117.0 172.6 117.55 172.3 118.5 171.95 119.6 171.2 120.25 L168.95 122.15 Q167.5 123.5 167.3 124.35 L166.5 126.0 164.5 127.6 160.3 130.95 Q159.7 130.25 159.7 128.25 159.75 125.9 160.8 123.8 161.8 121.75 161.35 120.2 161.0 119.0 159.3 117.0 158.55 116.15 159.1 113.15 L159.1 111.6 159.0 110.6 154.55 113.3 Q154.45 112.5 154.5 111.5 154.55 109.5 155.1 108.6 L157.0 105.4 154.25 103.7 Q154.15 101.4 153.6 100.45 L152.65 98.75 152.7 96.0 149.5 92.8 Q151.5 89.65 151.6 88.65 L151.45 85.7 Q151.35 83.3 152.35 81.85 153.3 80.45 155.95 77.75 L158.7 74.9 Q159.2 74.15 159.75 71.8 160.35 69.15 160.2 67.65 L161.45 70.4 Q162.7 73.6 162.4 75.9 L161.15 81.45 Q160.4 84.5 161.05 85.4 L163.4 87.3\"/><path fill=\"#dbdcdc\" d=\"M10.5 175.2 L10.95 176.8 8.85 178.9 4.45 179.15 1.25 178.9 Q1.9 178.1 6.25 176.55 8.45 175.8 10.5 175.2\"/><path fill=\"#dbdcdc\" d=\"M7.7 181.9 Q13.25 177.9 16.9 176.95 L17.35 178.6 15.55 181.0 7.7 181.9\"/><path fill=\"#dbdcdc\" d=\"M14.45 183.55 Q16.05 182.45 18.0 181.25 21.85 178.85 23.45 178.4 L24.05 179.5 Q24.55 180.75 24.05 181.35 23.25 182.4 19.2 183.0 L14.45 183.55\"/><path fill=\"#efe908\" d=\"M149.25 92.85 L149.8 92.0 Q150.4 93.3 152.8 95.35 153.4 95.85 153.25 97.4 153.1 98.95 153.45 99.25 154.25 99.95 154.45 100.8 L154.55 102.6 Q154.55 103.8 156.45 104.4 158.9 105.15 156.65 107.75 155.75 108.7 155.35 110.15 155.05 111.35 155.2 112.25 L158.05 110.55 Q159.3 109.55 159.45 109.6 159.7 109.65 159.8 111.25 L159.5 114.35 Q159.3 116.1 160.15 116.95 161.8 118.6 162.1 120.15 162.55 122.1 161.05 124.7 160.6 125.55 160.45 126.9 160.25 128.6 160.6 130.35 160.7 131.0 160.1 131.3 159.45 131.6 159.45 131.2 L158.95 128.25 Q158.75 126.55 159.8 124.25 160.7 122.25 160.6 120.95 160.45 119.4 159.1 118.05 157.85 116.8 158.15 115.25 158.6 112.95 158.3 111.85 L156.15 113.25 Q154.65 114.15 154.25 113.9 153.95 113.65 153.95 111.8 153.85 108.65 155.5 106.75 156.05 106.15 155.85 105.75 155.65 105.35 154.35 104.6 153.75 104.25 153.6 103.8 L153.5 102.65 Q153.5 101.2 152.3 99.9 151.75 99.35 151.9 98.0 L151.8 96.05 150.55 94.55 149.25 92.85\"/><path fill=\"#ffffff\" d=\"M54.95 23.55 Q56.1 23.75 56.7 25.7 57.25 27.7 56.9 30.5 56.45 33.85 55.05 35.6 53.9 37.0 52.85 36.8 51.65 36.5 51.05 34.15 50.55 31.95 50.9 29.5 51.4 26.5 52.65 24.85 53.75 23.35 54.95 23.55\"/><path fill=\"#ffffff\" d=\"M18.7 16.5 Q19.1 16.55 19.2 18.55 19.25 20.5 18.9 22.25 18.25 25.25 17.35 26.8 16.55 28.15 15.85 28.0 15.25 27.85 15.1 26.45 14.9 24.7 15.7 21.75 16.4 19.2 17.3 17.75 18.1 16.45 18.7 16.5\"/><path fill=\"#007f78\" d=\"M46.65 35.9 Q47.75 34.0 49.05 33.85 48.6 37.45 49.25 39.7 49.95 41.95 51.7 42.2 53.05 42.4 54.45 41.0 56.1 39.4 56.8 36.3 58.25 38.15 58.35 41.15 L57.25 44.7 Q55.1 45.9 51.3 46.05 L47.9 45.9 Q46.7 43.4 46.55 39.4 L46.65 35.9\"/><path fill=\"#007f78\" d=\"M17.35 27.85 Q17.9 28.85 17.9 29.85 L16.8 33.2 Q15.45 36.5 14.15 36.55 12.8 36.6 11.9 34.15 L11.05 30.85 Q10.9 30.15 11.4 28.0 L11.9 26.0 12.5 25.4 13.8 24.65 Q12.9 27.45 13.1 29.6 13.3 31.5 14.25 31.8 15.05 32.1 15.95 31.05 16.95 29.9 17.35 27.85\"/><path fill=\"#0d131a\" d=\"M45.4 0.1 Q63.05 1.85 69.45 20.65 72.1 28.5 71.9 37.5 71.75 46.25 69.0 53.45 66.75 59.35 66.25 60.95 64.8 65.3 64.6 68.1 64.25 73.5 63.4 73.4 62.6 73.3 63.05 67.95 63.5 61.65 67.1 53.0 69.75 46.6 69.95 38.25 70.15 29.7 67.65 22.05 61.65 3.5 45.25 1.85 37.95 1.15 30.35 3.95 22.7 6.8 18.25 11.85 17.1 13.15 16.75 14.25 16.35 15.5 16.9 16.95 17.0 17.25 16.4 17.5 L15.7 17.45 Q14.4 13.75 17.15 10.7 21.95 5.3 29.8 2.35 37.7 -0.65 45.4 0.1\"/><path fill=\"#0d131a\" d=\"M56.75 44.0 Q58.9 38.5 58.15 31.1 57.4 23.45 54.3 23.1 50.9 22.7 47.7 29.1 44.25 36.05 45.2 44.6 45.75 45.5 50.9 45.25 56.1 45.0 56.75 44.0 M43.85 45.0 Q42.5 37.05 45.95 29.15 49.5 21.1 54.45 21.6 59.7 22.1 59.7 32.45 59.7 41.25 57.7 44.8 56.85 46.35 50.5 46.55 44.15 46.75 43.85 45.0\"/><path fill=\"#0d131a\" d=\"M18.4 16.2 Q16.9 16.2 14.3 21.85 11.7 27.55 11.7 30.85 L11.7 30.9 Q11.7 32.7 12.65 34.4 13.5 36.0 14.05 35.85 16.1 35.3 18.2 25.75 20.3 16.2 18.4 16.2 M13.4 20.9 Q16.4 14.4 18.6 14.7 21.9 15.1 19.55 25.95 17.25 36.75 14.15 37.3 13.05 37.5 11.8 35.1 10.6 32.8 10.55 30.8 10.5 27.1 13.4 20.9\"/><path fill=\"#0d131a\" d=\"M13.85 43.85 Q13.4 42.7 13.95 42.3 14.5 41.95 15.0 43.15 L15.25 44.65 Q15.3 45.55 15.05 45.7 14.65 45.95 13.85 43.85\"/><path fill=\"#0d131a\" d=\"M26.9 46.5 Q28.15 45.95 28.3 46.7 28.45 47.4 27.2 48.05 25.45 48.9 25.2 48.65 25.05 48.45 25.6 47.65 26.2 46.85 26.9 46.5\"/><path fill=\"#0d131a\" d=\"M10.95 29.35 Q11.2 29.15 11.35 29.9 11.5 30.65 11.25 30.85 5.4 36.2 4.8 40.95 4.0 46.9 11.0 57.95 17.95 68.95 23.35 70.5 25.75 71.15 30.6 70.5 35.4 69.8 40.5 68.1 43.95 66.95 44.1 67.6 44.3 68.2 40.8 69.5 35.6 71.45 30.15 72.15 25.3 72.7 22.95 72.05 17.25 70.45 9.85 59.1 2.2 47.45 3.05 40.5 3.45 37.75 5.6 34.75 7.7 31.7 10.95 29.35\"/><path fill=\"#0d131a\" d=\"M50.7 20.0 Q49.05 21.25 48.35 22.0 47.5 22.95 46.85 24.35 46.15 26.0 45.45 25.85 44.75 25.65 45.4 23.9 46.55 20.95 49.6 19.3 51.1 18.55 51.45 18.85 51.75 19.2 50.7 20.0\"/><path fill=\"#0d131a\" d=\"M20.35 13.65 Q19.9 12.6 20.25 12.4 20.6 12.2 21.25 13.1 22.95 15.25 22.65 18.85 22.5 20.55 21.75 20.45 21.0 20.4 21.15 18.75 21.35 15.9 20.35 13.65\"/><path fill=\"#0d131a\" d=\"M5.15 40.7 Q5.5 38.8 5.85 38.8 6.25 38.85 6.2 40.8 6.2 42.4 7.1 43.45 8.7 45.25 12.35 48.0 15.95 50.7 17.45 51.25 19.85 52.1 32.05 53.05 L47.2 53.75 Q48.5 53.7 49.25 53.3 L50.85 51.9 Q52.0 50.7 52.25 51.05 52.55 51.35 51.7 52.75 51.0 53.9 50.05 54.45 49.05 55.0 47.5 55.05 L32.65 54.35 Q19.85 53.45 16.95 52.4 15.3 51.85 11.25 48.8 7.2 45.75 5.95 44.15 5.5 43.55 5.25 42.55 5.0 41.5 5.15 40.7\"/><path fill=\"#0d131a\" d=\"M10.15 49.0 L10.95 49.05 Q12.9 54.45 16.85 59.55 20.5 64.25 22.7 64.85 27.2 66.05 35.3 62.8 43.7 59.4 48.3 54.05 L49.25 54.0 Q49.95 54.15 49.75 54.35 45.15 60.2 36.05 64.05 27.25 67.75 22.3 66.4 19.7 65.7 15.75 60.6 11.6 55.3 9.5 49.55 9.45 49.25 10.15 49.0\"/><path fill=\"#0d131a\" d=\"M6.8 44.95 Q6.8 44.65 7.5 44.65 8.15 44.65 8.15 44.95 8.15 45.55 8.5 47.25 8.85 49.1 9.1 49.15 9.4 49.2 10.05 48.7 L10.9 47.8 11.85 48.75 10.2 49.9 8.8 50.35 Q8.25 50.15 7.5 48.05 6.8 46.05 6.8 44.95\"/><path fill=\"#0d131a\" d=\"M38.3 53.9 Q38.85 54.25 38.7 54.5 L36.65 56.65 Q35.15 57.8 34.45 57.8 33.85 57.8 32.85 56.4 31.8 55.0 31.5 53.9 31.45 53.6 32.1 53.45 32.8 53.3 32.85 53.6 L33.65 55.55 Q34.25 56.65 34.5 56.65 34.9 56.7 36.05 55.65 L37.6 53.8 38.3 53.9\"/><path fill=\"#0d131a\" d=\"M13.6 56.4 Q13.35 55.95 13.65 55.85 L15.2 55.55 Q16.35 55.5 16.65 55.8 16.95 56.1 16.7 57.5 16.5 58.85 16.15 59.4 15.9 59.75 15.2 58.85 L15.85 57.25 15.95 56.4 Q15.7 56.15 14.15 56.75 13.85 56.85 13.6 56.4\"/><path fill=\"#0d131a\" d=\"M32.25 61.15 Q32.65 61.05 33.45 61.8 L34.95 63.45 Q35.15 63.7 34.7 64.0 34.3 64.25 34.1 64.0 32.9 62.1 32.45 62.2 32.2 62.25 31.95 63.25 L31.75 64.85 Q31.75 65.15 31.2 65.15 30.65 65.15 30.65 64.8 30.65 64.0 31.15 62.7 31.75 61.25 32.25 61.15\"/><path fill=\"#0d131a\" d=\"M24.5 71.45 Q24.75 71.3 25.1 72.1 L25.25 73.0 Q19.2 77.35 15.25 82.4 11.45 87.25 5.6 97.85 2.9 100.85 2.0 103.45 1.25 105.5 1.95 106.0 2.9 106.75 6.9 105.45 L7.6 105.4 7.7 106.35 Q7.7 109.9 8.75 110.2 9.5 110.4 11.4 108.55 13.35 106.75 14.8 104.5 15.1 104.7 15.2 105.2 L15.1 106.1 Q14.25 107.8 12.05 109.85 9.55 112.15 8.4 111.75 6.4 111.2 6.45 106.85 4.45 107.65 2.65 107.7 0.95 107.75 0.4 107.15 -0.4 106.3 0.3 103.9 1.2 100.8 4.45 97.05 10.0 86.4 14.8 80.55 18.8 75.6 24.5 71.45\"/><path fill=\"#0d131a\" d=\"M6.0 100.25 Q4.4 102.6 4.9 103.15 5.4 103.6 8.05 102.7 9.55 102.05 9.75 102.5 9.9 103.0 8.45 103.65 4.85 105.3 3.5 104.55 1.95 103.65 5.1 99.55 6.15 98.2 6.55 98.5 7.0 98.75 6.0 100.25\"/><path fill=\"#0d131a\" d=\"M24.7 71.55 L25.5 71.65 Q26.15 72.05 26.0 72.3 12.55 102.9 15.35 126.2 19.0 157.05 52.3 161.2 52.6 161.25 52.8 162.0 53.05 162.8 52.7 162.75 17.2 158.75 13.4 126.85 10.6 103.05 24.7 71.55\"/><path fill=\"#0d131a\" d=\"M20.45 82.25 Q22.35 78.15 25.1 75.8 27.8 73.5 30.6 73.5 34.35 73.5 39.05 80.25 43.5 86.6 47.4 96.8 56.45 120.55 54.0 137.3 L53.15 138.7 52.4 139.45 Q54.95 121.2 45.6 97.4 41.85 87.8 37.6 81.5 33.3 75.15 30.6 75.15 28.65 75.15 26.05 77.25 22.9 79.8 20.9 84.15 20.75 84.45 20.55 83.5 20.3 82.5 20.45 82.25\"/><path fill=\"#0d131a\" d=\"M63.45 67.55 Q63.4 67.2 64.1 65.1 64.85 63.05 64.9 63.35 67.95 85.15 70.7 95.8 74.35 110.25 80.65 120.4 90.9 136.9 88.3 151.1 87.75 154.0 85.2 162.1 83.1 168.65 82.95 172.9 82.8 176.9 82.0 176.7 81.25 176.5 81.45 172.4 81.75 167.7 83.7 161.05 86.0 153.35 86.45 150.45 88.45 137.4 78.4 120.5 72.15 110.0 69.0 97.0 68.25 94.0 63.45 67.55\"/><path fill=\"#0d131a\" d=\"M59.55 171.55 Q60.45 172.0 60.55 172.3 61.9 175.75 61.8 182.4 61.75 188.6 62.45 189.65 63.65 191.45 67.15 192.5 70.65 193.55 74.5 193.3 84.35 192.7 86.0 185.25 86.4 183.4 84.15 178.1 81.75 172.4 81.7 171.85 81.65 171.55 82.15 170.65 82.6 169.75 82.65 170.1 82.8 171.85 85.5 177.65 87.9 182.9 87.55 185.45 86.4 193.65 75.1 194.55 70.6 194.9 66.5 193.75 62.4 192.6 60.95 190.55 59.8 188.85 60.2 181.95 60.6 174.8 58.8 171.4 L59.55 171.55\"/><path fill=\"#0d131a\" d=\"M53.6 135.65 Q55.45 132.3 56.0 132.65 56.5 133.05 54.8 136.55 50.1 146.3 51.6 155.45 53.1 164.65 60.8 171.9 63.55 174.5 63.1 175.05 62.7 175.6 59.9 173.1 51.4 165.6 49.6 156.3 47.7 146.4 53.6 135.65\"/><path fill=\"#0d131a\" d=\"M17.85 139.85 Q18.1 139.7 18.6 140.5 19.05 141.25 18.8 141.45 15.15 144.05 12.15 149.3 8.95 154.8 9.25 158.85 9.5 162.0 12.05 165.15 14.5 168.25 18.1 169.95 21.2 171.45 20.9 171.95 20.65 172.5 17.25 171.1 13.2 169.4 10.45 166.0 7.65 162.6 7.4 158.95 7.0 153.8 10.75 147.75 13.9 142.65 17.85 139.85\"/><path fill=\"#0d131a\" d=\"M39.5 166.8 Q39.3 166.55 39.95 166.1 40.55 165.65 40.75 165.9 42.45 168.3 43.15 170.65 43.85 173.1 43.25 174.65 42.65 176.35 36.8 178.65 30.55 181.15 24.35 181.75 24.0 181.8 23.95 181.05 23.85 180.3 24.2 180.25 30.25 179.65 35.75 177.4 40.7 175.35 41.6 173.65 42.05 172.75 41.5 170.85 40.9 168.8 39.5 166.8\"/><path fill=\"#0d131a\" d=\"M14.2 168.35 Q14.5 168.25 15.0 168.95 15.5 169.65 15.2 169.7 13.85 170.2 11.8 171.3 9.75 172.45 8.65 173.3 L7.7 173.15 Q7.0 172.8 7.25 172.6 8.55 171.55 10.55 170.25 12.8 168.85 14.2 168.35\"/><path fill=\"#0d131a\" d=\"M39.65 168.8 Q38.6 171.2 38.1 171.0 37.6 170.8 38.3 168.3 39.1 165.6 41.2 163.2 43.2 160.75 44.95 160.35 45.25 160.3 46.05 160.85 46.85 161.4 46.55 161.45 45.25 161.75 43.1 163.9 40.75 166.3 39.65 168.8\"/><path fill=\"#0d131a\" d=\"M10.7 173.7 Q11.45 174.95 11.7 176.55 11.75 176.85 11.1 176.95 10.45 177.0 10.35 176.7 L9.6 174.7 Q8.95 173.7 8.55 173.7 7.05 173.65 4.5 175.6 2.0 177.45 2.2 178.1 2.4 178.6 4.75 178.55 L8.95 178.1 Q9.25 178.05 9.4 178.7 9.55 179.35 9.25 179.4 L2.55 179.75 Q0.3 179.5 0.2 178.9 0.0 177.6 3.5 174.85 6.95 172.1 8.7 172.15 9.8 172.2 10.7 173.7\"/><path fill=\"#0d131a\" d=\"M16.75 178.8 Q16.7 177.5 16.1 176.4 15.4 175.25 14.65 175.35 13.3 175.55 10.65 178.05 8.05 180.45 8.25 181.0 8.4 181.45 11.25 181.0 L15.7 180.05 Q16.0 179.95 16.0 180.6 16.0 181.3 15.7 181.35 13.25 182.15 10.1 182.4 6.85 182.65 6.5 181.95 6.0 180.9 9.15 177.6 12.3 174.2 14.45 173.9 15.8 173.7 16.85 175.2 17.95 176.7 18.0 178.8 18.0 179.1 17.4 179.1 16.75 179.1 16.75 178.8\"/><path fill=\"#0d131a\" d=\"M13.3 183.85 Q12.75 182.95 15.9 179.35 19.1 175.7 21.0 175.55 22.4 175.4 23.9 177.65 25.4 179.8 25.0 181.25 24.65 182.6 19.1 183.55 L13.3 183.85 M15.0 182.8 L19.1 182.35 Q23.1 181.5 23.35 180.75 23.65 179.9 22.85 178.45 22.05 177.0 21.15 177.05 19.9 177.15 17.3 179.8 14.8 182.3 15.0 182.8\"/><path fill=\"#0d131a\" d=\"M154.45 128.1 Q154.55 127.8 155.25 128.1 155.95 128.4 155.85 128.7 150.35 141.75 140.85 149.3 132.3 156.05 121.65 157.5 111.8 158.85 102.45 155.4 93.2 152.0 87.3 145.0 87.1 144.75 87.45 143.6 87.85 142.45 88.05 142.7 94.45 150.3 103.75 153.7 112.9 157.1 122.5 155.55 132.5 153.9 140.6 147.3 149.45 140.1 154.45 128.1\"/><path fill=\"#0d131a\" d=\"M158.85 131.25 Q158.9 130.95 159.65 131.05 160.4 131.15 160.35 131.45 158.25 148.8 148.05 160.3 139.15 170.3 125.5 174.5 113.25 178.2 100.95 176.3 89.0 174.45 82.65 168.15 82.45 167.95 82.85 166.95 83.25 165.95 83.45 166.15 89.4 172.1 100.95 174.1 112.9 176.2 124.75 172.9 138.05 169.2 146.75 159.6 156.75 148.55 158.85 131.25\"/><path fill=\"#0d131a\" d=\"M157.75 140.25 L157.6 142.75 Q152.8 155.8 142.25 163.6 133.0 170.5 120.75 172.4 109.6 174.15 99.3 171.35 89.15 168.65 84.1 162.7 83.9 162.45 84.3 161.65 84.7 160.9 84.9 161.15 89.9 167.0 100.0 169.75 110.3 172.5 121.4 170.7 133.6 168.75 142.75 161.7 153.15 153.65 157.75 140.25\"/><path fill=\"#0d131a\" d=\"M168.0 97.0 L168.0 95.45 Q167.85 95.15 166.95 95.85 164.5 97.9 164.15 97.6 163.85 97.35 164.15 94.45 164.75 88.25 161.55 86.75 160.2 86.15 160.1 84.9 160.0 83.95 160.7 80.7 161.5 76.85 161.5 74.9 161.5 72.85 160.7 69.7 160.3 72.45 159.75 73.9 159.2 75.35 158.25 76.15 154.55 79.35 153.15 81.6 151.95 83.55 152.1 85.65 152.3 87.65 152.05 88.7 L151.15 90.65 150.3 92.0 Q149.9 92.75 149.75 93.9 149.5 95.6 149.2 95.65 148.95 95.7 148.0 94.25 147.0 92.8 147.75 89.7 148.15 88.2 147.5 86.45 146.85 84.75 147.2 83.7 146.5 84.35 146.15 86.05 145.8 87.9 146.4 89.25 146.95 90.45 146.6 92.25 L146.0 94.05 Q145.35 95.3 145.35 96.3 L145.75 98.1 Q146.35 100.0 146.0 101.0 144.55 104.45 144.55 105.8 144.55 106.9 145.6 108.5 146.65 110.05 146.55 111.35 L145.7 114.0 144.7 115.95 Q144.25 117.05 144.2 118.3 144.1 120.35 145.35 122.3 146.6 124.4 148.4 124.8 L153.1 126.15 Q155.05 126.95 156.45 128.55 157.95 130.15 159.05 130.3 160.25 130.5 161.65 129.05 163.0 127.6 164.6 126.8 165.8 126.25 166.55 124.3 167.3 122.3 168.05 121.9 170.0 120.8 170.85 119.85 172.05 118.5 171.85 116.7 171.7 115.6 172.35 113.3 173.0 111.0 172.9 109.9 L172.9 107.1 Q173.05 105.5 173.35 104.55 L172.15 106.9 170.6 109.7 Q169.45 111.95 169.0 111.9 168.55 111.9 168.75 109.6 L169.15 106.5 169.4 103.5 Q167.9 104.7 167.45 104.5 167.05 104.3 167.2 102.75 L168.0 97.0 M162.65 72.85 L162.9 76.1 Q162.85 77.45 161.65 81.95 160.85 84.8 162.15 85.4 164.85 86.6 165.45 89.25 166.05 91.55 165.15 95.8 168.35 92.6 169.0 93.9 169.75 95.25 168.35 102.65 169.9 101.35 170.3 102.1 170.85 103.05 170.1 107.6 L171.65 105.4 172.65 103.45 Q173.45 101.4 173.75 101.35 174.15 101.35 174.2 103.7 L174.0 106.5 Q173.9 108.4 174.25 109.6 174.7 111.0 173.75 113.45 172.75 115.95 173.1 117.05 173.75 119.3 171.55 121.0 168.5 123.3 168.0 124.4 L167.1 126.4 Q166.35 127.65 165.4 128.05 163.5 128.85 162.5 129.95 160.1 132.4 158.8 132.25 157.7 132.15 155.35 129.55 152.5 126.35 147.6 125.75 145.6 125.5 144.05 123.25 142.6 121.15 142.45 118.9 142.3 117.35 143.75 114.6 145.2 111.9 145.15 111.2 145.1 110.3 144.45 109.55 L143.45 108.3 Q142.45 106.4 144.6 100.95 145.2 99.55 144.55 98.25 143.8 96.7 143.8 95.75 143.85 94.9 144.65 93.35 L145.35 91.65 Q145.55 90.6 145.25 89.2 144.7 86.75 145.3 84.95 145.65 84.0 146.9 82.1 147.65 80.95 147.85 81.0 148.1 81.05 148.15 82.45 L148.1 83.85 Q148.15 85.1 148.7 86.5 149.3 88.1 148.6 90.3 148.15 91.6 148.75 93.1 L150.35 90.0 Q151.0 88.85 150.95 87.65 L150.75 85.5 Q150.75 81.7 152.85 79.45 154.1 78.05 157.65 75.15 159.05 73.45 159.4 69.5 159.8 65.95 160.1 65.9 160.5 65.8 161.85 69.5 162.35 70.85 162.65 72.85\"/><path fill=\"#0d131a\" d=\"M50.1 23.8 L51.05 23.65 Q51.7 23.7 51.5 23.95 48.25 27.5 47.5 35.25 46.8 42.4 48.6 45.75 48.75 46.05 48.15 46.25 L47.4 46.15 Q45.3 42.1 46.15 34.7 47.0 27.2 50.1 23.8\"/><path fill=\"#0d131a\" d=\"M20.5 52.1 Q20.85 52.1 21.55 52.6 22.25 53.1 21.95 53.1 19.9 53.25 17.55 54.25 15.45 55.2 13.9 56.45 13.7 56.65 13.35 56.15 13.0 55.65 13.2 55.45 16.9 52.4 20.5 52.1\"/><path fill=\"#ffffff\" d=\"M62.2 190.7 Q62.5 189.65 63.5 188.8 64.7 187.85 65.85 188.2 67.4 188.7 68.2 190.35 68.9 191.8 68.6 192.85 68.1 194.55 66.05 197.15 64.05 199.6 63.4 199.65 62.6 199.7 62.15 196.0 61.7 192.35 62.2 190.7\"/><path fill=\"#ffffff\" d=\"M72.35 192.5 Q72.15 191.05 72.6 189.95 73.15 188.6 74.55 188.3 77.25 187.8 78.35 190.35 79.0 191.9 78.65 195.75 78.3 199.55 77.6 199.85 76.9 200.15 74.95 197.9 72.8 195.4 72.35 192.5\"/><path fill=\"#ffffff\" d=\"M81.95 191.45 Q82.3 188.2 83.95 186.65 85.5 185.2 86.6 186.45 87.6 187.6 88.45 192.25 89.35 196.8 88.8 197.05 88.15 197.35 85.0 194.75 81.85 192.15 81.95 191.45\"/><path fill=\"#ef8200\" d=\"M54.75 72.1 L66.1 89.75 Q63.9 97.6 56.4 105.45 53.75 108.2 48.35 112.5 L44.25 116.1 Q41.7 118.2 40.85 117.9 40.1 117.7 39.55 114.85 L39.15 112.05 36.6 113.65 Q33.9 115.1 33.2 114.4 32.55 113.75 32.95 111.3 L33.45 109.0 Q29.75 109.0 29.8 107.85 29.85 107.05 31.7 105.5 34.0 103.55 34.85 102.3 36.9 92.35 46.05 81.25 50.6 75.7 54.75 72.1\"/><path fill=\"#cf7100\" d=\"M41.1 117.8 Q43.95 112.5 45.4 110.75 L54.9 102.1 Q62.55 95.25 65.55 90.1 64.95 95.25 59.0 102.8 53.5 109.8 49.15 112.0 42.75 117.15 41.1 117.8\"/><path fill=\"#dbdcdc\" d=\"M67.45 189.25 Q69.35 192.1 67.35 195.8 65.65 198.95 63.85 199.5 L66.4 193.95 Q67.55 190.8 67.45 189.25\"/><path fill=\"#dbdcdc\" d=\"M73.25 189.2 L74.5 194.05 Q75.3 196.95 76.35 199.3 75.45 199.5 74.0 197.1 72.5 194.65 72.3 192.5 72.15 190.65 72.7 189.75 L73.25 189.2\"/><path fill=\"#dbdcdc\" d=\"M82.75 188.9 L85.35 192.35 Q88.0 196.0 88.15 197.2 L85.2 195.05 Q82.25 192.6 82.25 191.35 82.25 190.1 82.5 189.4 L82.75 188.9\"/><path fill=\"#0d131a\" d=\"M65.55 189.0 Q63.65 188.85 63.05 190.45 62.45 191.95 62.8 195.35 63.05 198.55 63.55 198.75 64.05 198.95 65.75 196.6 67.45 194.2 67.75 192.7 67.95 191.5 67.3 190.35 66.65 189.15 65.55 189.0 M65.85 187.75 Q67.5 188.15 68.45 189.8 69.3 191.25 69.15 192.85 68.95 194.35 66.55 197.45 64.15 200.55 63.25 200.45 62.15 200.4 61.6 196.0 61.1 191.65 61.75 189.9 62.15 188.85 63.4 188.15 64.7 187.45 65.85 187.75\"/><path fill=\"#0d131a\" d=\"M77.55 190.45 Q77.2 189.65 76.4 189.25 75.65 188.85 74.85 189.0 74.15 189.15 73.6 189.85 72.95 190.65 73.0 191.65 73.05 194.05 74.95 196.8 76.65 199.25 77.2 199.05 77.7 198.9 78.0 195.65 78.4 192.15 77.55 190.45 M76.95 187.95 Q78.1 188.55 78.7 189.8 79.55 191.65 79.1 196.05 78.65 200.35 77.7 200.6 76.4 200.95 73.95 197.4 71.45 193.8 71.55 191.55 71.65 190.2 72.4 189.1 73.25 187.85 74.6 187.6 75.85 187.35 76.95 187.95\"/><path fill=\"#0d131a\" d=\"M82.9 191.2 Q82.95 192.35 85.45 194.35 87.8 196.3 88.1 196.1 88.5 195.75 87.7 191.75 86.85 187.5 85.65 186.75 84.5 186.65 83.65 188.25 82.8 189.7 82.9 191.2 M81.5 191.3 Q81.35 189.35 82.8 187.25 84.3 185.0 85.95 185.3 87.75 185.7 88.9 191.65 90.05 197.5 89.05 198.0 88.4 198.35 85.05 195.6 81.6 192.75 81.5 191.3\"/><path fill=\"#0d131a\" d=\"M51.55 73.95 Q54.15 71.95 54.55 72.25 55.0 72.6 52.65 74.85 46.85 80.45 42.45 87.25 37.5 94.85 35.65 101.9 35.3 103.1 34.1 104.45 L31.9 106.45 Q30.7 107.45 31.1 107.85 31.5 108.25 33.65 108.25 33.95 108.25 33.9 108.95 33.85 109.65 33.55 109.65 30.75 109.65 29.5 108.85 27.8 107.7 30.65 105.35 L33.1 103.25 Q33.95 102.4 34.15 101.5 36.25 93.7 40.85 86.3 45.65 78.55 51.55 73.95\"/><path fill=\"#0d131a\" d=\"M63.75 92.85 Q65.15 89.35 65.6 89.6 66.1 89.85 64.9 93.55 63.1 99.25 58.85 104.4 54.9 109.25 50.05 112.2 49.1 112.8 45.45 116.1 41.9 119.0 40.45 118.55 39.65 118.3 39.05 116.65 38.45 115.0 38.5 113.2 36.55 114.6 34.7 115.0 L32.55 114.9 Q31.9 114.35 32.15 112.4 32.4 110.5 33.35 108.65 34.7 106.05 35.25 106.25 35.8 106.4 34.6 109.2 33.15 112.6 33.85 113.3 L35.7 113.0 Q37.2 112.45 38.6 111.55 39.3 111.1 39.5 111.2 39.75 111.25 39.8 112.05 40.1 116.45 41.1 116.75 41.95 117.0 44.75 114.6 L49.45 110.75 Q53.4 108.3 57.45 103.35 61.65 98.2 63.75 92.85\"/></g></svg>"
      ],
      "text/plain": [
       "<IPython.core.display.SVG object>"
      ]
     },
     "metadata": {},
     "output_type": "display_data"
    }
   ],
   "source": [
    "charmander = Pokemon(\"charmander\")"
   ]
  },
  {
   "cell_type": "code",
   "execution_count": 13,
   "metadata": {},
   "outputs": [
    {
     "name": "stdout",
     "output_type": "stream",
     "text": [
      "charmeleon's data has been updated!\n"
     ]
    },
    {
     "data": {
      "image/svg+xml": [
       "<svg xmlns=\"http://www.w3.org/2000/svg\" version=\"1.1\" width=\"280px\" height=\"288px\" viewBox=\"-0.4 -0.25 279.55 288.45\"><g><path fill=\"#0d131a\" d=\"M156.85 64.6 Q158.2 68.1 158.2 71.3 L158.15 72.25 Q157.9 74.3 156.9 74.75 156.0 75.1 154.9 74.25 152.4 72.2 151.05 66.05 149.75 60.2 150.85 58.7 L151.9 58.65 153.05 59.15 Q155.35 60.6 156.85 64.6\"/><path fill=\"#3d62ac\" d=\"M155.75 73.25 Q154.15 71.9 153.25 68.25 152.5 65.3 152.5 62.35 L152.7 60.5 Q154.55 62.0 155.8 65.4 156.9 68.55 156.9 71.3 L156.85 72.1 Q156.75 73.4 156.4 73.55 L155.75 73.25\"/><path fill=\"#0d131a\" d=\"M155.3 67.65 L155.45 69.5 Q155.35 70.35 155.05 70.45 154.7 70.55 154.35 69.85 154.0 69.15 153.8 68.1 L153.65 66.25 Q153.75 65.4 154.05 65.3 154.4 65.25 154.75 65.9 L155.3 67.65\"/><path fill=\"#0d131a\" d=\"M273.4 201.3 L274.9 200.7 Q275.7 200.45 276.1 201.15 L276.65 201.15 Q279.15 205.8 276.55 215.35 274.25 223.85 271.05 227.4 270.25 228.3 269.5 228.0 268.65 227.7 268.35 225.35 268.2 224.2 268.0 219.05 L267.7 213.45 Q267.45 210.25 269.35 206.1 271.3 201.9 273.4 201.3\"/><path fill=\"#fff3c2\" d=\"M273.75 202.55 Q274.35 202.4 274.7 203.15 275.75 205.05 275.75 208.15 275.75 212.8 273.6 218.95 271.75 224.3 270.2 226.0 L270.05 226.15 Q269.55 225.35 269.3 219.0 L269.0 212.7 Q269.0 209.85 270.65 206.4 272.3 202.95 273.75 202.55\"/><path fill=\"#dbd2a9\" d=\"M274.7 203.15 L275.45 205.15 273.75 207.1 Q271.35 210.85 270.45 225.7 L270.05 226.15 Q269.55 225.35 269.3 219.0 L269.0 212.7 Q269.0 209.85 270.65 206.4 272.3 202.95 273.75 202.55 274.35 202.4 274.7 203.15\"/><path fill=\"#0d131a\" d=\"M206.9 132.05 Q208.9 136.05 213.6 139.05 217.1 141.35 224.65 144.4 L234.75 148.4 Q238.7 150.15 241.1 152.5 248.25 159.6 259.7 172.25 271.4 185.15 274.2 189.15 277.05 193.2 277.85 197.6 278.6 201.95 277.1 205.4 275.2 209.8 267.2 210.8 L248.5 211.35 Q242.6 209.95 239.9 203.1 234.6 189.45 229.1 177.6 220.75 159.65 216.9 157.3 211.65 154.15 204.6 151.5 L190.2 146.7 Q186.25 145.4 185.3 139.55 184.55 134.8 185.85 129.25 186.7 125.6 188.55 123.7 190.35 121.9 192.85 122.0 202.05 122.35 206.9 132.05\"/><path fill=\"#e73820\" d=\"M224.0 146.05 Q229.95 148.5 232.55 149.7 236.9 151.8 238.55 153.5 246.4 161.3 257.3 173.0 269.35 185.9 272.0 189.6 274.6 193.25 275.35 197.05 276.05 200.8 274.75 203.8 272.75 208.3 267.0 209.1 254.15 210.7 248.9 208.75 244.25 207.0 241.75 200.6 237.65 190.35 232.7 179.75 222.75 158.6 217.75 155.8 207.85 150.1 192.0 145.0 188.9 143.95 187.6 139.05 186.45 134.45 187.55 129.6 188.05 127.45 188.95 125.95 190.5 123.45 192.6 123.75 196.9 124.35 199.9 127.1 201.75 128.8 205.3 133.95 L207.2 136.65 Q208.85 139.0 213.75 141.5 216.6 143.0 224.0 146.05\"/><path fill=\"#c82e19\" d=\"M260.95 207.95 Q271.0 206.4 275.4 201.85 L274.75 203.8 Q272.75 208.3 267.0 209.1 L252.5 209.6 Q247.6 208.95 245.0 206.2 255.1 208.85 260.95 207.95\"/><path fill=\"#c82e19\" d=\"M192.6 123.75 Q195.85 124.2 198.2 125.8 200.2 127.1 202.3 129.75 202.6 140.15 207.05 150.5 200.65 147.8 192.0 145.0 188.9 143.95 187.6 139.05 186.45 134.45 187.55 129.6 188.05 127.45 188.95 125.95 190.5 123.45 192.6 123.75\"/><path fill=\"#0d131a\" d=\"M269.25 198.0 Q270.95 200.95 270.85 207.9 270.75 215.95 268.0 223.2 L266.4 226.3 Q265.25 228.05 264.6 228.0 263.95 227.95 262.85 225.45 L259.95 217.05 Q257.7 210.0 257.6 208.1 257.55 206.1 261.1 202.15 264.6 198.25 266.95 197.55 268.7 197.05 269.25 198.0\"/><path fill=\"#fff3c2\" d=\"M267.9 199.3 Q269.3 201.75 268.85 210.7 268.45 220.05 266.3 223.65 L265.2 225.05 264.8 225.25 264.25 224.55 261.55 216.2 Q259.45 209.25 259.4 207.4 259.3 206.05 262.15 202.95 265.05 199.8 267.1 199.2 L267.9 199.3\"/><path fill=\"#dbd2a9\" d=\"M259.4 207.4 Q259.35 206.45 261.25 204.0 261.7 208.0 263.15 214.7 264.5 221.05 265.6 224.65 L265.0 225.2 264.8 225.25 264.25 224.55 261.55 216.2 Q259.45 209.25 259.4 207.4\"/><path fill=\"#0d131a\" d=\"M250.2 194.4 Q252.55 194.0 253.35 195.5 254.9 198.3 254.2 206.0 253.3 215.5 248.7 222.7 248.3 223.35 247.55 222.95 246.0 222.25 243.6 213.05 241.35 204.45 241.55 202.8 241.75 201.3 244.75 198.2 247.95 194.85 250.2 194.4\"/><path fill=\"#fff3c2\" d=\"M252.0 197.15 Q252.5 198.05 252.5 201.5 252.5 206.3 251.45 211.0 250.15 216.9 247.65 220.05 246.65 218.6 244.9 211.55 243.15 204.7 243.15 202.6 L243.2 202.3 Q243.35 201.3 245.65 199.1 248.2 196.65 250.1 196.3 251.45 196.1 252.0 197.15\"/><path fill=\"#dbd2a9\" d=\"M243.2 202.3 Q243.3 201.5 245.3 199.4 246.0 204.65 246.95 209.75 248.1 216.1 248.95 218.0 L247.65 220.05 Q246.65 218.6 244.9 211.55 243.15 204.7 243.15 202.6 L243.2 202.3\"/><path fill=\"#0d131a\" d=\"M191.9 263.95 Q192.2 262.2 195.65 259.65 198.9 257.2 200.0 257.35 201.15 257.55 206.7 260.6 212.75 263.95 213.3 265.4 213.55 265.95 213.2 266.35 212.25 267.5 204.15 267.1 L193.45 265.9 Q192.35 265.65 192.0 264.9 191.75 264.4 191.9 263.95\"/><path fill=\"#fff3c2\" d=\"M193.15 264.25 Q193.2 263.15 196.15 260.95 198.9 258.85 199.9 258.7 201.0 258.95 205.95 261.7 211.0 264.5 211.0 265.0 L204.0 265.45 193.75 264.6 Q193.15 264.5 193.15 264.25\"/><path fill=\"#dbd2a9\" d=\"M193.75 264.6 Q193.15 264.5 193.15 264.25 193.2 263.05 196.4 260.75 203.15 263.0 210.95 264.95 L211.0 265.0 204.0 265.45 193.75 264.6\"/><path fill=\"#0d131a\" d=\"M176.55 190.65 L179.3 190.3 Q180.25 190.25 180.45 190.8 L184.9 203.15 Q187.35 208.85 191.5 213.6 200.0 223.2 201.5 228.7 204.05 237.8 196.95 251.25 196.7 251.75 197.3 252.6 L199.0 254.5 Q202.9 258.4 203.65 260.0 204.4 261.65 203.85 263.15 L201.95 265.95 Q198.9 269.75 190.3 271.4 L178.1 271.8 164.15 269.25 Q150.15 266.4 148.95 264.7 147.65 262.85 149.25 258.25 150.45 254.8 152.15 252.1 153.3 250.3 153.55 248.95 153.8 247.45 153.15 245.9 152.0 243.4 146.0 240.65 142.3 239.0 131.7 235.3 L132.1 234.4 132.75 232.7 Q133.3 227.65 151.0 209.9 169.3 191.55 176.55 190.65\"/><path fill=\"#e73820\" d=\"M178.45 193.2 Q181.25 201.15 183.7 206.0 186.6 211.75 190.4 216.25 197.75 224.9 199.05 230.5 200.85 238.3 195.4 250.55 194.85 251.8 195.7 253.25 196.15 254.05 197.75 255.7 199.95 257.9 200.5 259.15 201.8 261.95 199.9 264.25 197.2 267.6 189.55 269.35 182.6 270.95 178.45 270.1 L161.6 266.6 Q152.35 264.5 151.6 263.25 150.9 262.1 153.0 255.45 L155.3 247.95 Q155.3 246.6 154.75 245.2 151.9 238.8 134.5 232.8 134.65 228.9 151.4 211.95 168.8 194.35 176.15 192.5 177.95 192.05 178.45 193.2\"/><path fill=\"#c82e19\" d=\"M176.15 192.5 Q177.95 192.05 178.45 193.2 180.7 199.6 182.65 203.8 184.9 208.65 187.5 212.5 178.65 217.8 172.3 225.75 164.45 235.65 166.85 243.2 168.05 246.9 167.0 249.7 166.25 251.75 163.8 254.25 161.0 257.1 161.2 259.25 161.35 261.35 164.4 262.65 L170.75 264.8 175.4 265.85 179.3 266.65 Q180.6 267.05 182.4 268.3 L183.75 270.25 178.45 270.1 167.4 267.8 157.1 265.5 156.15 265.2 156.1 265.2 Q152.1 264.05 151.6 263.25 150.9 262.1 153.0 255.45 L155.3 247.95 Q155.3 246.6 154.75 245.2 151.9 238.8 134.5 232.8 134.65 228.9 151.4 211.95 168.8 194.35 176.15 192.5\"/><path fill=\"#0d131a\" d=\"M191.1 265.65 Q192.25 263.55 195.3 260.95 198.6 258.2 199.85 258.8 200.9 259.3 205.3 263.25 210.4 267.85 211.05 269.9 211.3 270.7 210.8 271.0 209.45 271.85 202.25 271.15 194.65 270.4 191.95 268.75 L191.2 268.4 Q190.65 268.1 190.65 267.7 190.65 266.5 191.1 265.65\"/><path fill=\"#fff3c2\" d=\"M192.65 267.5 Q192.65 267.0 193.35 265.75 194.6 263.8 196.65 261.85 198.6 260.0 199.3 260.0 200.35 260.55 204.6 264.65 209.0 268.85 208.85 269.35 L201.95 269.55 Q195.0 269.05 192.65 267.65 L192.65 267.5\"/><path fill=\"#dbd2a9\" d=\"M201.4 269.55 Q194.9 269.0 192.65 267.65 L192.65 267.5 Q192.65 267.0 193.35 265.75 L194.05 264.8 Q201.05 267.5 208.7 269.45 207.45 270.0 201.4 269.55\"/><path fill=\"#0d131a\" d=\"M188.05 261.2 Q191.45 262.6 194.35 266.05 196.7 268.85 197.8 271.75 L198.25 273.45 Q198.25 273.9 197.85 274.05 196.15 274.8 187.55 273.3 179.8 271.95 178.15 271.25 177.0 270.7 177.0 270.15 177.05 268.75 180.95 265.25 184.5 262.05 185.95 261.4 L187.35 260.95 188.05 261.2\"/><path fill=\"#fff3c2\" d=\"M192.75 266.95 L195.45 270.55 Q196.4 272.15 196.0 272.4 L188.0 271.75 Q181.25 270.6 179.15 269.85 179.5 268.85 182.4 265.9 185.3 263.0 186.35 262.65 187.2 262.35 189.05 263.6 190.8 264.8 192.75 266.95\"/><path fill=\"#dbd2a9\" d=\"M179.15 269.85 Q179.3 269.35 180.4 268.05 192.05 270.9 195.8 271.25 196.25 272.2 196.0 272.4 L188.0 271.75 Q181.25 270.6 179.15 269.85\"/><path fill=\"#0d131a\" d=\"M218.85 0.95 Q219.6 -0.25 223.3 0.1 226.95 0.4 229.4 1.8 233.6 4.1 233.6 7.9 233.6 9.4 232.2 12.0 L224.55 25.5 218.95 35.0 Q225.05 42.95 229.2 52.75 233.85 63.7 233.85 72.3 233.85 78.4 229.75 84.45 225.95 90.05 216.15 99.1 194.05 119.55 194.05 134.7 L194.05 135.15 Q193.5 138.65 193.55 143.45 L193.45 151.2 Q192.85 160.1 189.9 172.85 187.2 184.5 183.85 193.8 176.85 213.1 164.6 223.45 148.05 237.4 119.85 237.75 L82.95 236.6 Q68.95 234.3 49.9 224.05 6.2 200.55 4.2 161.5 3.4 146.25 7.3 130.2 10.65 116.2 18.25 99.0 L18.55 98.35 19.25 98.5 Q22.9 99.3 24.0 100.85 L27.4 99.0 26.75 101.05 Q24.8 107.55 25.6 119.1 26.7 135.95 34.75 147.45 41.25 156.7 50.65 161.4 60.4 166.3 74.6 167.0 76.9 167.15 81.9 163.75 85.55 161.3 91.8 156.0 103.15 146.45 123.8 134.7 127.0 132.8 135.05 129.8 146.45 125.5 151.4 121.85 159.65 115.65 162.95 104.7 162.25 105.3 160.9 105.15 159.45 105.05 158.0 104.2 152.15 100.8 148.6 96.3 144.7 91.35 144.7 86.2 144.7 81.65 147.8 77.4 150.75 73.4 156.25 70.0 151.2 62.75 149.3 57.25 147.75 52.75 148.5 50.35 149.8 46.1 155.0 43.95 156.6 43.25 157.25 42.55 L158.05 40.9 Q159.95 35.45 164.2 32.3 169.4 28.45 185.65 21.45 195.95 17.0 207.75 9.25 217.8 2.65 218.85 0.95\"/><path fill=\"#e73820\" d=\"M229.05 4.7 Q230.8 6.25 230.8 8.25 230.8 9.65 230.0 11.1 L222.0 25.35 217.35 33.15 214.4 30.25 213.25 30.3 Q213.15 31.25 213.95 32.25 215.7 34.35 220.5 42.4 226.65 52.75 228.9 59.35 231.3 66.4 231.3 71.05 231.3 77.05 227.55 82.95 223.8 88.95 214.65 97.4 205.95 105.45 200.35 113.55 192.3 125.1 192.3 134.7 L192.35 134.95 Q191.3 141.5 190.6 152.1 189.8 164.15 188.55 170.65 186.45 181.3 181.25 191.95 L179.7 195.25 Q172.05 212.0 163.3 220.2 147.6 234.9 121.25 235.2 73.45 235.8 49.5 220.4 L48.65 219.85 Q31.5 208.85 23.0 199.05 7.7 181.5 6.5 158.2 L6.35 152.7 Q6.35 139.8 9.95 126.5 12.95 115.3 19.75 99.9 22.35 102.35 25.25 101.05 23.4 109.85 23.4 115.7 23.4 124.6 25.25 132.65 27.6 142.85 32.7 150.1 39.2 159.35 52.35 165.1 65.2 170.7 75.95 169.45 78.9 169.15 82.8 166.65 86.25 164.5 92.0 159.65 100.0 152.9 105.5 148.75 114.8 141.85 124.65 136.2 127.9 134.3 135.7 131.4 147.05 127.2 152.3 123.35 161.0 116.9 164.5 105.6 164.65 105.25 164.4 104.4 L164.25 103.15 165.7 101.35 163.8 102.55 Q162.15 103.6 159.35 102.55 154.75 100.8 151.0 95.95 147.1 90.95 147.1 86.4 147.1 82.1 149.45 78.4 152.15 74.1 157.55 71.25 160.0 69.9 160.25 69.2 160.45 68.5 159.5 68.9 L157.75 69.35 155.65 66.1 Q152.75 61.5 151.6 58.7 149.65 54.0 150.65 50.85 151.85 47.15 155.7 45.55 157.75 44.7 158.65 43.6 159.25 42.9 159.7 41.5 160.8 38.35 164.35 35.45 170.6 30.35 186.4 23.05 196.85 18.2 208.7 10.75 219.6 3.9 220.65 2.05 L220.6 2.15 224.05 2.3 Q227.2 3.05 229.05 4.7\"/><path fill=\"#c82e19\" d=\"M230.8 8.25 Q230.8 9.65 230.0 11.1 L222.0 25.35 217.35 33.15 214.4 30.25 213.25 30.3 Q213.15 31.25 213.95 32.25 215.7 34.35 220.5 42.4 226.65 52.75 228.9 59.35 231.3 66.4 231.3 71.05 231.3 77.05 227.55 82.95 223.8 88.95 214.65 97.4 205.95 105.45 200.35 113.55 192.3 125.1 192.3 134.7 L192.35 134.95 192.15 136.25 Q190.0 133.45 187.75 128.7 L184.1 121.05 Q179.4 112.25 171.0 109.5 171.7 109.05 175.0 108.6 178.55 108.15 180.25 107.35 L184.85 104.65 Q188.8 102.1 191.05 101.75 L200.5 101.15 Q208.05 100.1 213.8 95.15 220.0 89.9 221.9 79.2 223.3 71.4 222.35 61.25 221.9 56.3 214.7 41.9 208.55 29.6 210.4 27.65 L218.75 17.65 Q224.85 9.45 227.1 3.4 228.25 4.0 229.05 4.7 230.8 6.25 230.8 8.25\"/><path fill=\"#0d131a\" d=\"M170.85 140.6 Q177.9 137.25 182.8 138.25 186.5 139.0 188.9 142.2 191.9 146.2 191.85 153.05 191.75 159.8 188.5 172.85 185.85 183.35 182.65 192.6 L181.85 194.4 Q174.65 211.65 165.55 220.45 149.2 236.4 121.25 236.75 73.0 237.35 48.65 221.7 L47.8 221.15 Q30.4 209.95 21.75 200.0 6.2 182.1 4.95 158.3 4.6 151.65 6.25 139.85 7.25 132.85 8.5 126.65 L9.8 126.9 Q7.25 141.5 13.25 158.1 19.25 174.65 31.3 186.25 42.7 197.25 55.05 201.4 68.2 205.9 82.9 202.75 104.5 198.15 124.8 182.6 138.25 172.3 151.7 156.45 161.3 145.15 170.85 140.6\"/><path fill=\"#fff3c2\" d=\"M189.05 145.75 Q191.1 149.65 190.8 154.0 190.45 158.85 188.0 169.75 185.0 182.9 181.45 192.1 L180.65 193.9 Q173.55 210.85 164.7 219.45 148.65 235.1 121.25 235.45 73.35 235.95 49.35 220.6 L48.5 220.05 Q31.35 209.05 22.8 199.2 7.45 181.6 6.25 158.2 L6.2 155.9 Q6.2 149.25 7.9 137.75 7.7 151.2 13.7 164.85 19.6 178.2 29.8 188.05 41.25 199.05 55.25 203.45 69.7 207.9 85.0 204.7 106.5 200.1 127.15 183.6 137.8 175.05 154.5 156.85 162.1 148.55 164.55 146.7 174.15 139.45 181.85 140.5 186.55 141.1 189.05 145.75\"/><path fill=\"#dbd2a9\" d=\"M49.35 220.6 L48.5 220.05 39.0 213.65 Q33.0 209.35 28.3 204.9 37.05 211.4 50.4 217.15 67.2 224.45 84.95 227.4 133.1 235.55 172.35 210.1 155.85 235.05 121.25 235.45 73.35 235.95 49.35 220.6\"/><path fill=\"#0d131a\" d=\"M202.1 96.0 L189.2 95.45 177.2 94.8 Q175.1 95.25 171.55 97.7 168.1 100.05 165.3 102.85 164.4 103.75 165.45 105.5 166.4 107.1 167.8 107.7 170.15 108.75 174.3 108.25 178.05 107.8 181.45 106.35 183.5 105.45 183.5 106.0 183.5 106.5 181.9 107.25 177.75 109.2 173.3 109.8 L167.05 109.5 Q164.85 108.45 163.65 106.3 L162.9 104.25 160.7 103.45 Q158.85 102.7 160.45 103.05 162.6 103.5 164.5 101.85 L169.3 97.3 Q173.35 93.9 177.0 93.3 L190.1 94.0 201.65 94.7 Q205.0 93.65 207.1 91.85 208.55 90.65 208.9 91.0 209.2 91.3 208.0 92.65 205.55 95.35 202.1 96.0\"/><path fill=\"#0d131a\" d=\"M176.95 108.35 L177.7 108.1 178.6 108.0 181.65 110.2 Q182.7 110.9 182.6 111.15 L181.5 111.05 Q180.65 110.75 179.15 109.85 L176.95 108.35\"/><path fill=\"#0d131a\" d=\"M157.05 57.5 Q156.65 56.7 157.0 56.25 157.35 55.75 158.05 56.65 160.1 59.05 160.15 62.55 160.2 64.3 159.65 64.15 159.1 64.0 158.85 62.7 158.55 60.6 157.05 57.5\"/><path fill=\"#0d131a\" d=\"M174.25 61.2 Q173.75 59.85 173.9 57.7 174.05 55.0 175.2 53.15 177.1 50.3 176.3 53.95 175.75 56.05 175.55 61.05 175.45 62.7 175.0 62.55 174.65 62.4 174.25 61.2\"/><path fill=\"#0d131a\" d=\"M162.05 91.5 Q162.55 90.05 163.25 89.45 163.9 88.85 164.6 89.25 165.35 89.65 164.55 90.45 163.9 91.1 163.55 92.35 L163.0 94.1 162.3 94.9 Q161.95 94.95 161.7 94.0 161.45 93.05 162.05 91.5\"/><path fill=\"#0d131a\" d=\"M190.85 75.85 Q184.7 75.45 180.7 73.2 L179.3 73.35 Q179.0 73.15 179.25 72.5 L179.6 71.95 Q182.3 66.85 190.5 60.75 198.1 55.1 204.0 53.1 206.8 52.1 206.95 52.5 L206.0 53.65 204.5 54.85 203.75 55.3 Q206.05 57.5 207.75 61.85 208.85 64.8 208.8 67.8 208.7 70.75 207.6 72.65 L208.3 73.2 Q208.6 73.85 206.8 74.25 197.85 76.35 190.85 75.85\"/><path fill=\"#ffffff\" d=\"M202.1 56.1 Q202.9 56.45 203.9 57.9 205.05 59.55 205.9 61.85 207.25 65.3 207.25 68.35 207.25 70.9 206.25 72.75 198.3 75.05 190.8 74.45 185.05 73.95 181.15 72.05 183.95 68.0 192.0 62.1 199.55 56.55 202.1 56.1\"/><path fill=\"#0d131a\" d=\"M195.75 58.35 L196.1 58.15 Q198.8 60.65 199.85 65.45 201.05 70.65 199.25 74.85 L198.95 75.35 198.7 75.35 186.25 74.85 186.2 74.85 186.15 74.8 182.9 73.45 Q181.2 72.75 180.55 71.3 L182.7 68.45 182.85 68.3 Q185.9 65.1 194.65 59.15 L195.75 58.35\"/><path fill=\"#3d62ac\" d=\"M195.85 59.35 Q199.1 63.9 199.1 69.5 199.1 71.95 198.3 74.5 193.9 75.0 189.8 74.7 185.75 74.4 183.95 73.55 L182.15 72.75 Q181.25 72.2 181.55 71.8 183.15 69.35 188.4 64.95 193.1 60.95 195.85 59.35\"/><path fill=\"#0d131a\" d=\"M190.7 61.85 Q193.65 64.9 192.75 69.65 191.9 74.3 189.1 74.3 185.2 74.3 183.95 67.55 L188.3 63.8 190.7 61.85\"/><path fill=\"#0d131a\" d=\"M61.05 19.3 Q51.5 29.4 55.35 32.2 L56.15 32.1 56.85 31.3 Q58.1 28.75 59.3 28.1 L63.4 27.9 63.95 28.2 63.55 28.7 Q61.8 29.85 59.85 32.7 L56.55 38.3 55.65 39.85 Q52.25 46.0 53.25 47.65 53.95 48.95 55.45 47.8 56.7 46.85 57.3 45.35 57.95 43.55 58.35 43.65 58.7 43.7 58.7 45.45 58.7 50.75 56.9 53.65 55.25 56.35 50.65 58.9 48.75 59.9 47.95 63.9 47.75 65.0 48.1 65.15 48.5 65.4 49.5 64.3 51.35 62.35 52.6 61.55 54.9 60.1 58.35 59.75 59.1 59.75 58.95 60.05 L57.45 62.0 Q54.85 65.05 53.1 68.9 51.0 73.45 50.7 78.05 49.75 91.6 43.0 96.15 39.85 98.3 32.25 98.85 29.0 99.1 27.45 100.2 24.95 102.0 22.2 101.5 20.15 101.05 18.95 99.45 18.3 98.1 16.55 96.1 14.3 93.45 8.55 90.5 4.8 88.55 2.55 84.3 0.55 80.55 0.1 75.9 -0.4 70.6 1.5 66.05 3.35 61.55 7.1 58.55 13.9 53.15 16.55 48.5 18.55 45.0 18.75 40.55 18.85 39.1 19.1 38.95 L19.6 39.4 Q21.65 42.4 21.65 47.5 22.55 44.25 24.75 40.3 29.15 32.45 35.65 29.55 36.6 29.05 36.75 29.2 36.95 29.3 36.2 30.2 34.45 32.25 33.15 35.75 31.9 39.1 32.5 39.6 L32.95 39.95 Q33.45 40.05 34.25 39.2 37.05 36.4 38.75 31.8 40.8 26.35 43.1 23.65 45.7 20.55 49.25 20.25 L50.05 20.35 49.55 21.0 Q48.05 22.4 47.6 24.55 47.25 26.4 47.75 27.8 48.0 28.5 48.7 28.35 49.45 28.25 49.85 27.2 51.95 21.85 55.25 18.55 58.45 15.35 67.25 9.6 69.0 8.45 69.3 8.55 69.6 8.7 68.55 10.6 67.35 12.75 63.35 16.85 L61.05 19.3\"/><path fill=\"#e50020\" d=\"M67.8 10.1 Q66.65 12.2 62.75 16.25 L60.4 18.65 Q57.55 21.75 56.2 23.7 53.65 27.35 53.65 29.9 53.65 31.55 54.7 32.75 55.35 33.45 55.9 33.4 56.5 33.35 57.6 31.8 58.6 30.25 59.35 29.65 60.6 28.6 62.3 28.65 60.65 30.0 58.85 32.7 L55.75 37.85 54.9 39.45 Q51.7 45.4 51.7 48.0 51.7 48.7 51.95 49.2 52.35 49.85 53.1 49.85 54.6 49.85 56.1 48.4 57.2 47.3 57.85 45.75 57.75 48.9 56.35 51.75 54.4 55.7 50.2 58.15 48.6 59.05 47.45 61.5 46.4 63.7 46.4 65.45 L46.4 65.55 Q46.5 66.6 47.0 66.9 L48.25 66.7 50.15 64.9 Q51.65 63.2 52.75 62.45 54.65 61.2 57.35 60.8 L56.8 61.45 Q53.55 65.15 52.15 67.55 49.8 71.65 49.45 76.2 48.55 89.35 42.25 94.3 38.75 97.05 31.9 97.55 28.25 97.75 27.45 98.45 25.4 100.15 23.25 99.8 21.4 99.55 20.35 98.15 L16.5 93.6 Q13.9 90.75 8.25 87.65 6.15 86.5 4.55 83.3 2.9 80.0 2.5 75.95 L2.4 73.7 Q2.4 69.3 4.1 65.6 5.75 61.85 8.9 59.35 15.45 54.15 17.8 49.3 19.35 46.1 19.6 41.25 20.75 43.8 20.75 47.5 20.75 50.05 20.35 52.1 L20.25 53.65 Q20.3 54.75 21.2 52.3 22.0 48.65 24.0 44.25 28.05 35.55 34.3 31.4 32.9 33.55 32.05 35.8 31.2 38.05 31.2 39.55 31.2 40.65 31.7 41.1 32.75 42.05 34.9 39.8 L37.3 36.45 39.5 32.2 Q41.9 27.45 43.3 25.45 45.6 22.2 48.1 21.4 46.6 23.45 46.6 26.0 46.6 27.35 46.95 28.1 47.45 29.6 48.5 29.6 49.65 29.65 50.65 27.55 53.2 21.8 56.6 18.4 58.85 16.15 65.15 11.9 L67.8 10.1\"/><path fill=\"#efe908\" d=\"M42.75 36.6 Q44.25 35.4 44.8 35.65 45.15 35.75 44.25 36.9 41.85 40.45 41.55 42.35 41.45 43.1 41.85 47.65 42.2 51.95 40.2 55.7 38.7 58.4 35.55 61.35 32.4 64.4 31.75 67.0 31.0 69.9 32.1 70.8 33.15 71.7 33.55 70.25 34.45 67.15 35.8 65.25 36.95 63.55 38.95 62.15 39.8 61.6 39.95 61.6 40.2 61.6 39.9 62.4 37.15 69.75 38.55 70.7 39.0 70.9 40.0 70.0 41.15 69.0 42.05 67.45 44.55 63.4 44.55 60.4 44.55 58.1 45.4 59.95 45.8 60.8 45.9 62.5 46.0 64.6 45.55 66.45 44.4 70.85 38.3 77.45 33.85 82.25 34.25 85.35 34.55 87.55 36.05 87.65 37.3 87.65 38.8 86.35 40.6 84.75 41.7 81.8 42.0 80.95 42.25 80.9 42.5 80.8 42.8 81.65 44.25 85.65 42.55 89.25 40.65 93.05 36.65 93.45 35.1 93.6 33.35 94.5 31.6 95.35 30.3 96.55 L26.6 99.15 Q25.6 100.0 24.25 100.2 L21.9 100.05 Q20.75 99.75 19.15 97.3 L17.85 95.7 16.25 93.6 14.85 90.75 Q10.25 78.55 15.2 70.65 16.8 68.2 16.6 70.15 16.5 72.0 17.15 73.3 17.85 74.65 18.85 74.45 19.6 74.3 20.15 72.5 20.7 70.6 20.7 68.0 20.75 61.75 25.45 56.4 29.15 52.2 31.4 51.85 32.25 51.8 31.6 52.6 28.45 56.35 27.7 59.0 27.05 61.2 28.15 61.4 29.7 61.6 31.55 59.2 33.5 56.65 36.15 50.75 L37.75 47.05 Q38.35 45.3 38.45 43.45 38.65 39.65 42.75 36.6\"/><path fill=\"#e73820\" d=\"M64.95 188.15 Q66.65 182.15 76.2 183.05 84.3 183.8 96.2 189.25 106.95 194.2 115.4 200.4 124.05 206.7 124.4 210.05 125.0 216.2 114.65 234.35 105.05 251.25 100.65 254.75 109.2 264.9 108.3 269.5 107.95 271.35 105.9 273.05 L101.55 276.15 Q97.1 279.2 80.8 279.45 65.15 279.65 62.25 277.6 57.15 273.95 56.6 273.1 54.0 269.4 57.25 263.1 62.15 253.5 62.65 247.65 63.05 242.25 59.8 236.85 57.5 233.0 56.15 228.35 53.8 220.15 56.3 213.9 L59.9 204.75 64.95 188.15\"/><path fill=\"#c82e19\" d=\"M107.1 232.55 Q118.65 217.3 118.9 203.1 124.1 207.5 124.4 210.05 125.0 216.2 114.65 234.35 105.05 251.25 100.65 254.75 107.4 262.75 108.25 267.1 108.95 270.55 105.85 273.1 99.95 266.4 95.05 262.7 91.9 260.3 85.4 256.65 80.75 254.0 83.45 251.65 84.4 250.85 91.25 247.7 98.0 244.55 107.1 232.55\"/><path fill=\"#0d131a\" d=\"M64.1 187.95 Q65.35 185.05 65.95 185.4 66.55 185.75 65.8 188.35 L62.0 200.35 57.1 214.2 Q54.65 220.3 57.1 228.45 58.4 232.85 60.55 236.4 64.05 242.2 63.5 248.05 62.95 253.9 58.05 263.5 55.35 268.7 56.8 271.8 57.65 273.6 61.25 275.9 L62.75 276.9 Q65.35 278.75 80.6 278.6 96.65 278.45 101.05 275.4 L102.45 274.45 Q104.95 272.8 105.85 271.95 107.25 270.6 107.45 269.1 107.8 266.95 106.15 263.8 104.45 260.55 100.35 255.7 96.8 257.6 96.2 256.85 95.75 256.3 96.2 255.9 L98.5 254.05 Q104.8 248.95 113.85 234.9 124.55 218.3 123.5 210.15 L125.25 209.95 125.35 211.55 Q125.35 220.7 117.5 234.05 110.65 245.65 101.85 254.35 106.1 259.55 107.95 262.5 110.3 266.15 110.3 268.4 L109.85 270.25 Q109.55 272.15 107.55 273.5 L103.45 275.9 102.05 276.85 Q97.35 280.1 80.9 280.35 65.0 280.65 61.75 278.3 L59.15 277.45 Q55.3 275.05 54.35 273.05 52.55 269.4 55.65 263.3 60.45 253.95 60.35 246.55 60.3 240.65 57.05 235.3 54.45 231.05 53.4 227.55 51.2 220.25 53.8 213.75 L64.1 187.95\"/><path fill=\"#0d131a\" d=\"M68.15 265.65 Q70.7 263.75 71.85 264.75 73.45 266.0 75.1 269.0 77.15 272.6 77.4 275.85 77.65 278.7 76.65 281.9 75.6 285.4 73.55 287.65 73.1 288.2 72.2 288.0 70.35 287.65 66.35 282.85 62.8 278.55 62.0 276.6 61.45 275.15 63.65 271.25 65.85 267.35 68.15 265.65\"/><path fill=\"#fff3c2\" d=\"M71.2 266.8 Q72.75 268.05 74.1 270.2 75.85 273.05 76.1 275.95 L76.1 276.8 Q76.1 281.15 72.6 285.0 71.65 285.2 67.8 281.55 63.95 277.85 63.25 276.15 62.9 275.35 64.8 272.35 66.8 269.1 69.05 267.45 70.55 266.35 71.2 266.8\"/><path fill=\"#dbd2a9\" d=\"M71.8 282.0 Q72.4 282.0 73.6 281.05 74.95 280.0 75.95 278.55 75.35 281.95 72.6 285.0 71.65 285.2 67.8 281.55 63.95 277.85 63.25 276.15 62.95 275.5 64.5 272.85 66.3 277.1 68.95 279.9 70.95 282.0 71.8 282.0\"/><path fill=\"#0d131a\" d=\"M89.5 265.5 Q90.75 264.75 93.3 266.8 95.6 268.65 97.3 271.3 99.2 274.35 100.1 280.6 100.95 286.55 100.05 287.25 99.25 287.95 97.3 287.55 L94.4 286.7 Q90.85 285.45 86.9 282.55 83.3 279.95 82.8 278.65 82.2 277.25 84.6 272.15 87.1 266.85 89.5 265.5\"/><path fill=\"#fff3c2\" d=\"M92.95 268.95 Q95.05 270.55 96.05 272.15 98.0 275.25 98.7 279.2 99.35 282.95 98.4 284.65 98.2 285.05 97.4 285.1 94.85 285.15 90.1 282.35 85.7 279.85 84.8 278.4 84.05 277.25 86.25 272.9 88.4 268.7 89.85 267.75 90.75 267.25 92.95 268.95\"/><path fill=\"#dbd2a9\" d=\"M85.95 273.5 Q89.7 278.05 93.1 280.5 96.75 283.1 98.9 282.5 98.8 283.9 98.4 284.65 98.2 285.05 97.4 285.1 94.85 285.15 90.1 282.35 85.7 279.85 84.8 278.4 84.1 277.35 85.95 273.5\"/><path fill=\"#0d131a\" d=\"M106.3 263.25 Q108.85 263.1 113.65 268.9 118.55 274.85 118.9 278.85 118.95 279.4 118.15 279.45 L117.1 279.4 Q114.7 279.65 108.35 278.3 102.05 277.0 101.4 276.15 100.95 275.55 101.05 273.45 101.15 271.45 101.7 269.65 102.35 267.35 103.3 265.7 104.7 263.35 106.3 263.25\"/><path fill=\"#fff3c2\" d=\"M106.65 265.0 Q107.55 265.15 110.35 268.3 113.4 271.65 115.1 274.75 116.1 276.65 116.1 277.45 L116.05 277.75 Q115.15 278.3 109.45 277.0 103.85 275.7 102.85 274.9 L102.75 274.0 Q102.75 271.35 103.85 268.55 104.95 265.75 106.65 265.0\"/><path fill=\"#dbd2a9\" d=\"M103.25 270.4 L103.85 268.55 Q104.95 265.75 106.65 265.0 107.55 265.15 110.35 268.3 113.4 271.65 115.1 274.75 116.1 276.65 116.1 277.45 L116.05 277.75 Q114.95 278.35 108.7 276.8 108.35 275.8 106.85 274.1 L103.25 270.4\"/><path fill=\"#0d131a\" d=\"M99.1 221.7 Q99.25 219.8 104.95 220.15 108.25 220.3 110.4 222.3 112.95 224.65 113.0 229.0 113.05 232.8 113.8 242.2 L114.7 250.3 Q115.0 253.75 114.2 254.15 113.75 254.4 112.75 253.4 L111.4 252.0 Q107.65 248.5 103.35 239.75 98.3 229.4 98.95 222.95 L99.1 221.7\"/><path fill=\"#fff3c2\" d=\"M104.85 221.45 Q107.1 221.5 108.85 222.75 111.65 224.7 111.7 229.0 111.75 234.4 112.5 242.3 L112.95 248.75 112.7 250.45 112.0 249.95 Q108.75 246.9 104.95 239.1 100.65 230.25 100.65 224.15 L100.75 222.65 Q100.8 222.25 101.9 221.85 L104.85 221.45\"/><path fill=\"#dbd2a9\" d=\"M101.9 221.85 L104.85 221.45 Q107.1 221.5 108.85 222.75 111.65 224.7 111.7 229.0 111.75 234.4 112.5 242.3 L112.95 248.75 112.8 250.25 Q112.1 245.15 110.95 240.05 109.65 234.3 108.65 232.55 107.9 231.3 105.75 229.9 103.65 228.5 100.95 227.45 100.65 225.75 100.65 224.15 L100.75 222.65 Q100.8 222.25 101.9 221.85\"/><path fill=\"#e73820\" d=\"M153.6 140.6 Q145.25 145.65 139.25 149.45 127.8 156.75 125.3 159.65 124.2 164.25 129.9 183.5 135.95 203.85 135.95 204.95 135.95 212.5 131.0 220.4 123.8 231.8 110.9 228.5 L105.15 226.7 Q101.55 225.45 99.45 223.05 93.45 216.3 95.15 195.1 96.25 181.65 97.55 173.75 99.25 163.45 102.05 157.3 104.65 151.5 111.65 147.05 114.8 145.05 122.65 141.55 126.6 139.85 132.4 133.55 136.8 128.8 139.35 124.9 141.05 122.3 147.7 120.8 L158.05 120.45 Q161.6 121.5 159.4 130.0 157.25 138.3 153.6 140.6\"/><path fill=\"#c82e19\" d=\"M128.35 193.05 L128.7 179.3 133.5 195.3 Q135.9 203.35 135.95 204.95 135.95 210.95 132.25 218.2 127.0 228.5 117.55 229.15 125.3 221.85 127.35 206.7 128.1 201.35 128.35 193.05\"/><path fill=\"#0d131a\" d=\"M145.65 119.7 Q151.15 118.25 158.15 119.6 160.05 119.95 159.85 120.65 159.6 121.35 157.15 121.1 151.85 120.55 147.0 121.95 141.95 123.4 139.75 126.25 134.8 132.65 131.85 135.7 127.25 140.5 123.0 142.35 L121.8 142.9 Q114.85 146.0 111.4 148.25 105.25 152.4 102.85 157.65 97.75 168.85 96.05 195.15 95.75 199.45 95.75 202.9 95.75 216.05 99.75 221.55 102.1 224.75 108.15 226.65 L111.1 227.65 Q119.65 229.8 125.65 225.15 130.35 221.5 133.05 214.2 135.05 208.7 135.05 204.95 135.05 203.55 131.4 191.4 123.75 166.4 124.45 159.45 124.85 155.85 125.7 156.4 126.15 156.7 126.5 157.7 129.15 154.7 139.9 147.9 148.75 142.25 152.35 140.45 154.55 139.35 154.9 139.7 155.25 140.05 153.25 141.95 L140.6 150.25 Q129.25 157.4 126.8 160.05 126.75 163.95 128.95 174.0 131.0 183.15 133.5 191.3 L136.3 200.7 Q137.6 205.15 137.6 206.35 137.6 210.1 135.15 215.7 132.0 222.75 126.9 226.75 120.35 231.85 110.65 229.35 L105.75 228.35 Q98.8 226.2 96.45 222.1 92.45 215.0 93.7 196.05 94.7 181.1 96.05 172.55 97.6 162.65 100.15 157.05 102.7 151.45 109.7 147.0 113.1 144.8 121.1 141.3 L122.3 140.8 Q127.7 138.1 132.2 132.25 L137.55 124.6 Q140.6 121.05 145.65 119.7\"/><path fill=\"#0d131a\" d=\"M131.95 208.2 Q134.7 203.75 136.3 204.45 138.2 205.25 139.7 208.1 140.95 210.5 141.6 213.7 144.35 227.8 141.95 234.55 L140.45 237.75 Q139.5 239.2 138.95 239.1 138.3 239.0 137.45 236.85 L136.05 233.2 Q133.1 226.1 128.45 221.1 L128.0 220.85 Q126.75 219.8 128.55 215.05 129.95 211.3 131.95 208.2\"/><path fill=\"#fff3c2\" d=\"M129.25 219.15 Q129.25 217.45 130.6 213.9 132.05 210.05 133.8 207.7 135.15 205.95 135.7 206.25 136.95 206.8 138.05 209.05 139.15 211.4 139.85 215.0 141.0 220.85 140.8 227.0 140.6 232.95 139.45 234.1 L138.95 234.45 Q138.55 234.4 137.5 231.75 L134.8 226.15 Q132.6 222.5 129.4 219.75 129.25 219.6 129.25 219.15\"/><path fill=\"#dbd2a9\" d=\"M135.75 210.7 L137.45 216.4 Q138.2 220.0 138.45 224.8 138.75 229.65 138.4 233.7 L137.5 231.75 134.8 226.15 Q132.6 222.5 129.4 219.75 129.25 219.6 129.25 219.15 129.25 217.45 130.6 213.9 132.05 210.05 133.8 207.7 L134.55 206.9 Q134.7 207.75 135.75 210.7\"/><path fill=\"#0d131a\" d=\"M122.25 217.9 Q126.05 220.4 126.85 226.0 L128.75 237.6 130.9 248.65 Q131.5 252.7 130.45 253.05 128.55 253.7 120.3 243.45 112.4 233.65 111.15 230.25 107.3 219.95 110.2 216.55 110.8 215.8 112.2 215.6 L114.75 215.65 115.85 215.8 Q119.95 216.35 122.25 217.9\"/><path fill=\"#fff3c2\" d=\"M127.45 237.85 Q129.15 246.7 129.15 248.5 L129.0 249.4 Q127.2 248.7 120.6 240.5 113.9 232.15 112.65 228.75 111.15 224.35 111.15 221.0 111.15 218.65 112.0 217.6 112.8 216.65 114.5 216.95 L115.7 217.1 Q119.65 217.65 121.55 219.0 124.75 221.3 125.55 227.05 L127.45 237.85\"/><path fill=\"#dbd2a9\" d=\"M124.05 231.8 Q122.95 227.4 123.85 221.6 125.05 223.8 125.55 227.05 L127.45 237.85 Q129.15 246.7 129.15 248.5 L129.0 249.4 128.65 249.2 126.1 239.55 124.05 231.8\"/><path fill=\"#ffffff\" d=\"M193.55 60.95 Q194.45 61.2 195.0 62.5 195.5 63.7 195.5 65.35 195.5 67.1 194.7 68.35 193.95 69.6 192.85 69.6 191.75 69.6 190.95 68.35 190.15 67.1 190.15 65.35 190.15 64.2 190.55 63.15 L193.55 60.95\"/></g></svg>"
      ],
      "text/plain": [
       "<IPython.core.display.SVG object>"
      ]
     },
     "metadata": {},
     "output_type": "display_data"
    },
    {
     "name": "stdout",
     "output_type": "stream",
     "text": [
      "Congrats you've got a new charmeleon!\n"
     ]
    }
   ],
   "source": [
    "charmander.evolve()"
   ]
  },
  {
   "cell_type": "code",
   "execution_count": null,
   "metadata": {},
   "outputs": [],
   "source": []
  }
 ],
 "metadata": {
  "kernelspec": {
   "display_name": "Python 3 (ipykernel)",
   "language": "python",
   "name": "python3"
  },
  "language_info": {
   "codemirror_mode": {
    "name": "ipython",
    "version": 3
   },
   "file_extension": ".py",
   "mimetype": "text/x-python",
   "name": "python",
   "nbconvert_exporter": "python",
   "pygments_lexer": "ipython3",
   "version": "3.9.7"
  }
 },
 "nbformat": 4,
 "nbformat_minor": 4
}
